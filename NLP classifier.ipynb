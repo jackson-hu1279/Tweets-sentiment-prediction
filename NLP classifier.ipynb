{
 "cells": [
  {
   "cell_type": "code",
   "execution_count": 1,
   "metadata": {},
   "outputs": [],
   "source": [
    "import pandas as pd\n",
    "from sklearn.neural_network import MLPClassifier\n",
    "from sklearn.metrics import confusion_matrix, classification_report"
   ]
  },
  {
   "cell_type": "markdown",
   "metadata": {},
   "source": [
    "## TFIDF"
   ]
  },
  {
   "cell_type": "code",
   "execution_count": 2,
   "metadata": {},
   "outputs": [],
   "source": [
    "train_data = pd.read_pickle(open(\"tfidf/train_tfidf.pkl\", \"rb\"))\n",
    "train_X = list(train_data['TFIDF'])\n",
    "train_y = train_data['Sentiment']\n",
    "dev_data = pd.read_pickle(open(\"tfidf/dev_tfidf.pkl\", \"rb\"))\n",
    "dev_X = list(dev_data['TFIDF'])\n",
    "dev_y = dev_data['Sentiment']"
   ]
  },
  {
   "cell_type": "code",
   "execution_count": 3,
   "metadata": {},
   "outputs": [
    {
     "name": "stderr",
     "output_type": "stream",
     "text": [
      "/Library/Frameworks/Python.framework/Versions/3.10/lib/python3.10/site-packages/sklearn/neural_network/_multilayer_perceptron.py:692: ConvergenceWarning: Stochastic Optimizer: Maximum iterations (200) reached and the optimization hasn't converged yet.\n",
      "  warnings.warn(\n"
     ]
    },
    {
     "data": {
      "text/plain": [
       "array(['negative', 'positive', 'negative', ..., 'positive', 'positive',\n",
       "       'negative'], dtype='<U8')"
      ]
     },
     "execution_count": 3,
     "metadata": {},
     "output_type": "execute_result"
    }
   ],
   "source": [
    "mlp = MLPClassifier()\n",
    "mlp.fit(train_X, train_y)\n",
    "labels_predict = mlp.predict(dev_X)\n",
    "labels_predict"
   ]
  },
  {
   "cell_type": "code",
   "execution_count": 4,
   "metadata": {},
   "outputs": [
    {
     "name": "stdout",
     "output_type": "stream",
     "text": [
      "              precision    recall  f1-score   support\n",
      "\n",
      "    negative       0.63      0.66      0.65      2000\n",
      "    positive       0.64      0.61      0.63      2000\n",
      "\n",
      "    accuracy                           0.64      4000\n",
      "   macro avg       0.64      0.64      0.64      4000\n",
      "weighted avg       0.64      0.64      0.64      4000\n",
      "\n",
      "[[1326  674]\n",
      " [ 779 1221]]\n"
     ]
    }
   ],
   "source": [
    "print(classification_report(dev_y, labels_predict))\n",
    "print(confusion_matrix(dev_y, labels_predict))"
   ]
  },
  {
   "cell_type": "markdown",
   "metadata": {},
   "source": [
    "## Embedding"
   ]
  },
  {
   "cell_type": "code",
   "execution_count": 5,
   "metadata": {},
   "outputs": [],
   "source": [
    "train_data = pd.read_pickle(open(\"sentence-transformers/train_emb.pkl\", \"rb\"))\n",
    "train_X = list(train_data['TFIDF'])\n",
    "train_y = train_data['Sentiment']\n",
    "dev_data = pd.read_pickle(open(\"sentence-transformers/dev_emb.pkl\", \"rb\"))\n",
    "dev_X = list(dev_data['TFIDF'])\n",
    "dev_y = dev_data['Sentiment']"
   ]
  },
  {
   "cell_type": "code",
   "execution_count": 6,
   "metadata": {},
   "outputs": [
    {
     "name": "stderr",
     "output_type": "stream",
     "text": [
      "/Library/Frameworks/Python.framework/Versions/3.10/lib/python3.10/site-packages/sklearn/neural_network/_multilayer_perceptron.py:692: ConvergenceWarning: Stochastic Optimizer: Maximum iterations (200) reached and the optimization hasn't converged yet.\n",
      "  warnings.warn(\n"
     ]
    },
    {
     "data": {
      "text/plain": [
       "array(['negative', 'positive', 'negative', ..., 'positive', 'negative',\n",
       "       'negative'], dtype='<U8')"
      ]
     },
     "execution_count": 6,
     "metadata": {},
     "output_type": "execute_result"
    }
   ],
   "source": [
    "mlp = MLPClassifier()\n",
    "mlp.fit(train_X, train_y)\n",
    "labels_predict = mlp.predict(dev_X)\n",
    "labels_predict"
   ]
  },
  {
   "cell_type": "code",
   "execution_count": 7,
   "metadata": {},
   "outputs": [
    {
     "name": "stdout",
     "output_type": "stream",
     "text": [
      "              precision    recall  f1-score   support\n",
      "\n",
      "    negative       0.62      0.69      0.65      2000\n",
      "    positive       0.65      0.58      0.61      2000\n",
      "\n",
      "    accuracy                           0.63      4000\n",
      "   macro avg       0.64      0.63      0.63      4000\n",
      "weighted avg       0.64      0.63      0.63      4000\n",
      "\n",
      "[[1372  628]\n",
      " [ 836 1164]]\n"
     ]
    }
   ],
   "source": [
    "print(classification_report(dev_y, labels_predict))\n",
    "print(confusion_matrix(dev_y, labels_predict))"
   ]
  }
 ],
 "metadata": {
  "interpreter": {
   "hash": "aee8b7b246df8f9039afb4144a1f6fd8d2ca17a180786b69acc140d282b71a49"
  },
  "kernelspec": {
   "display_name": "Python 3 (ipykernel)",
   "language": "python",
   "name": "python3"
  },
  "language_info": {
   "codemirror_mode": {
    "name": "ipython",
    "version": 3
   },
   "file_extension": ".py",
   "mimetype": "text/x-python",
   "name": "python",
   "nbconvert_exporter": "python",
   "pygments_lexer": "ipython3",
   "version": "3.10.2"
  }
 },
 "nbformat": 4,
 "nbformat_minor": 2
}
