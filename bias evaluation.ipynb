{
 "cells": [
  {
   "cell_type": "code",
   "execution_count": 133,
   "metadata": {},
   "outputs": [],
   "source": [
    "import pandas as pd\n",
    "from sklearn.metrics import accuracy_score\n",
    "from sklearn.metrics import confusion_matrix, classification_report\n",
    "from sklearn.linear_model import LogisticRegression\n",
    "from fairlearn.metrics import MetricFrame, selection_rate, count\n",
    "\n",
    "train_data = pd.read_pickle(open(\"sentence-transformers/train_emb.pkl\", \"rb\"))\n",
    "train_X = list(train_data['TFIDF'])\n",
    "train_y = (train_data['Sentiment'] == 'positive') * 1\n",
    "\n",
    "dev_data = pd.read_pickle(open(\"sentence-transformers/dev_emb.pkl\", \"rb\"))\n",
    "dev_X = list(dev_data['TFIDF'])\n",
    "dev_y  = (dev_data['Sentiment'] == 'positive') * 1\n",
    "\n"
   ]
  },
  {
   "cell_type": "markdown",
   "metadata": {},
   "source": [
    "### Prediction results"
   ]
  },
  {
   "cell_type": "code",
   "execution_count": 134,
   "metadata": {},
   "outputs": [
    {
     "name": "stdout",
     "output_type": "stream",
     "text": [
      "              precision    recall  f1-score   support\n",
      "\n",
      "           0       0.71      0.68      0.69      2000\n",
      "           1       0.69      0.72      0.70      2000\n",
      "\n",
      "    accuracy                           0.70      4000\n",
      "   macro avg       0.70      0.70      0.70      4000\n",
      "weighted avg       0.70      0.70      0.70      4000\n",
      "\n",
      "[[1358  642]\n",
      " [ 565 1435]]\n"
     ]
    }
   ],
   "source": [
    "lr = LogisticRegression(max_iter=500)\n",
    "lr.fit(train_X, train_y)\n",
    "labels_predict = lr.predict(dev_X)\n",
    "print(classification_report(dev_y, labels_predict))\n",
    "print(confusion_matrix(dev_y, labels_predict))"
   ]
  },
  {
   "cell_type": "markdown",
   "metadata": {},
   "source": [
    "### Bias Evaluation"
   ]
  },
  {
   "cell_type": "markdown",
   "metadata": {},
   "source": [
    "#### 1. Accuracy + Demographic count"
   ]
  },
  {
   "cell_type": "code",
   "execution_count": 135,
   "metadata": {},
   "outputs": [
    {
     "name": "stdout",
     "output_type": "stream",
     "text": [
      "accuracy    0.69825\n",
      "count          4000\n",
      "dtype: object\n",
      "            accuracy count\n",
      "Demographic               \n",
      "AAE           0.6645  2000\n",
      "SAE            0.732  2000\n"
     ]
    }
   ],
   "source": [
    "multi_metrics = {'accuracy': accuracy_score, 'count': count}\n",
    "am = MetricFrame(metrics=multi_metrics, y_true=dev_y, y_pred=labels_predict, sensitive_features=dev_data['Demographic'])\n",
    "print(am.overall)\n",
    "print(am.by_group)"
   ]
  },
  {
   "cell_type": "markdown",
   "metadata": {},
   "source": [
    "#### 2. Selection rate + Demographic parity difference"
   ]
  },
  {
   "cell_type": "code",
   "execution_count": 136,
   "metadata": {},
   "outputs": [
    {
     "name": "stdout",
     "output_type": "stream",
     "text": [
      "0.51925\n",
      "Demographic\n",
      "AAE    0.5655\n",
      "SAE     0.473\n",
      "Name: selection_rate, dtype: object\n"
     ]
    }
   ],
   "source": [
    "sm = MetricFrame(metrics=selection_rate, y_true=dev_y, y_pred=labels_predict, sensitive_features=dev_data['Demographic'])\n",
    "print(sm.overall)\n",
    "print(sm.by_group)"
   ]
  },
  {
   "cell_type": "code",
   "execution_count": 137,
   "metadata": {},
   "outputs": [
    {
     "name": "stdout",
     "output_type": "stream",
     "text": [
      "Difference between selection rate\n",
      "Demographic parity difference: 0.09\n"
     ]
    }
   ],
   "source": [
    "from fairlearn.metrics import demographic_parity_difference\n",
    "\n",
    "group_metrics = demographic_parity_difference(y_true=dev_y, y_pred=labels_predict, sensitive_features=dev_data['Demographic'])\n",
    "print(\"Difference between selection rate\")\n",
    "print(\"Demographic parity difference: {}\".format(round(group_metrics, 2)))"
   ]
  },
  {
   "cell_type": "markdown",
   "metadata": {},
   "source": [
    "#### 3 Error Rate Equality Difference"
   ]
  },
  {
   "cell_type": "markdown",
   "metadata": {},
   "source": [
    "#### 3.1 Overall"
   ]
  },
  {
   "cell_type": "code",
   "execution_count": 138,
   "metadata": {},
   "outputs": [
    {
     "name": "stdout",
     "output_type": "stream",
     "text": [
      "[1358  642]\n",
      "False positive rate: 0.321\n",
      "[ 565 1435]\n",
      "False negative rate: 0.2825\n"
     ]
    }
   ],
   "source": [
    "confusion = confusion_matrix(dev_y, labels_predict)\n",
    "print(confusion[0])\n",
    "false_positive_rate = confusion[0][1]/sum(confusion[0])\n",
    "print(\"False positive rate:\", false_positive_rate)\n",
    "\n",
    "print(confusion[1])\n",
    "false_negative_rate = confusion[1][0]/sum(confusion[1])\n",
    "print(\"False negative rate:\", false_negative_rate)"
   ]
  },
  {
   "cell_type": "markdown",
   "metadata": {},
   "source": [
    "#### 3.2 AAE"
   ]
  },
  {
   "cell_type": "code",
   "execution_count": 139,
   "metadata": {},
   "outputs": [],
   "source": [
    "# Filter and extract all AAE data\n",
    "train_data = pd.read_pickle(open(\"sentence-transformers/train_emb.pkl\", \"rb\"))\n",
    "AAE_train_data = train_data[train_data['Demographic'] == 'AAE']\n",
    "AAE_train_X = list(AAE_train_data['TFIDF'])\n",
    "AAE_train_y = (AAE_train_data['Sentiment'] == 'positive') * 1\n",
    "\n",
    "dev_data = pd.read_pickle(open(\"sentence-transformers/dev_emb.pkl\", \"rb\"))\n",
    "AAE_dev_data = dev_data[dev_data['Demographic'] == 'AAE']\n",
    "AAE_dev_X = list(AAE_dev_data['TFIDF'])\n",
    "AAE_dev_y  = (AAE_dev_data['Sentiment'] == 'positive') * 1"
   ]
  },
  {
   "cell_type": "code",
   "execution_count": 140,
   "metadata": {},
   "outputs": [
    {
     "name": "stdout",
     "output_type": "stream",
     "text": [
      "              precision    recall  f1-score   support\n",
      "\n",
      "           0       0.69      0.60      0.64      1000\n",
      "           1       0.65      0.73      0.69      1000\n",
      "\n",
      "    accuracy                           0.66      2000\n",
      "   macro avg       0.67      0.66      0.66      2000\n",
      "weighted avg       0.67      0.66      0.66      2000\n",
      "\n",
      "[[599 401]\n",
      " [270 730]]\n"
     ]
    }
   ],
   "source": [
    "AAE_labels_predict = lr.predict(AAE_dev_X)\n",
    "print(classification_report(AAE_dev_y, AAE_labels_predict))\n",
    "print(confusion_matrix(AAE_dev_y, AAE_labels_predict))"
   ]
  },
  {
   "cell_type": "code",
   "execution_count": 141,
   "metadata": {},
   "outputs": [
    {
     "name": "stdout",
     "output_type": "stream",
     "text": [
      "[599 401]\n",
      "False positive rate: 0.401\n",
      "[270 730]\n",
      "False negative rate: 0.27\n"
     ]
    }
   ],
   "source": [
    "AAE_confusion = confusion_matrix(AAE_dev_y, AAE_labels_predict)\n",
    "print(AAE_confusion[0])\n",
    "AAE_false_positive_rate = AAE_confusion[0][1]/sum(AAE_confusion[0])\n",
    "print(\"False positive rate:\", AAE_false_positive_rate)\n",
    "\n",
    "print(AAE_confusion[1])\n",
    "AAE_false_negative_rate = AAE_confusion[1][0]/sum(AAE_confusion[1])\n",
    "print(\"False negative rate:\", AAE_false_negative_rate)"
   ]
  },
  {
   "cell_type": "markdown",
   "metadata": {},
   "source": [
    "#### 3.3 SAE"
   ]
  },
  {
   "cell_type": "code",
   "execution_count": 142,
   "metadata": {},
   "outputs": [],
   "source": [
    "# Filter and extract all AAE data\n",
    "train_data = pd.read_pickle(open(\"sentence-transformers/train_emb.pkl\", \"rb\"))\n",
    "SAE_train_data = train_data[train_data['Demographic'] == 'SAE']\n",
    "SAE_train_X = list(SAE_train_data['TFIDF'])\n",
    "SAE_train_y = (SAE_train_data['Sentiment'] == 'positive') * 1\n",
    "\n",
    "dev_data = pd.read_pickle(open(\"sentence-transformers/dev_emb.pkl\", \"rb\"))\n",
    "SAE_dev_data = dev_data[dev_data['Demographic'] == 'SAE']\n",
    "SAE_dev_X = list(SAE_dev_data['TFIDF'])\n",
    "SAE_dev_y  = (SAE_dev_data['Sentiment'] == 'positive') * 1"
   ]
  },
  {
   "cell_type": "code",
   "execution_count": 143,
   "metadata": {},
   "outputs": [
    {
     "name": "stdout",
     "output_type": "stream",
     "text": [
      "              precision    recall  f1-score   support\n",
      "\n",
      "           0       0.72      0.76      0.74      1000\n",
      "           1       0.75      0.70      0.72      1000\n",
      "\n",
      "    accuracy                           0.73      2000\n",
      "   macro avg       0.73      0.73      0.73      2000\n",
      "weighted avg       0.73      0.73      0.73      2000\n",
      "\n",
      "[[759 241]\n",
      " [295 705]]\n"
     ]
    }
   ],
   "source": [
    "SAE_labels_predict = lr.predict(SAE_dev_X)\n",
    "print(classification_report(SAE_dev_y, SAE_labels_predict))\n",
    "print(confusion_matrix(SAE_dev_y, SAE_labels_predict))"
   ]
  },
  {
   "cell_type": "code",
   "execution_count": 144,
   "metadata": {},
   "outputs": [
    {
     "name": "stdout",
     "output_type": "stream",
     "text": [
      "[759 241]\n",
      "False positive rate: 0.241\n",
      "[295 705]\n",
      "False negative rate: 0.295\n"
     ]
    }
   ],
   "source": [
    "SAE_confusion = confusion_matrix(SAE_dev_y, SAE_labels_predict)\n",
    "print(SAE_confusion[0])\n",
    "SAE_false_positive_rate = SAE_confusion[0][1]/sum(SAE_confusion[0])\n",
    "print(\"False positive rate:\", SAE_false_positive_rate)\n",
    "\n",
    "print(SAE_confusion[1])\n",
    "SAE_false_negative_rate = SAE_confusion[1][0]/sum(SAE_confusion[1])\n",
    "print(\"False negative rate:\", SAE_false_negative_rate)"
   ]
  }
 ],
 "metadata": {
  "interpreter": {
   "hash": "aee8b7b246df8f9039afb4144a1f6fd8d2ca17a180786b69acc140d282b71a49"
  },
  "kernelspec": {
   "display_name": "Python 3.10.2 64-bit",
   "language": "python",
   "name": "python3"
  },
  "language_info": {
   "codemirror_mode": {
    "name": "ipython",
    "version": 3
   },
   "file_extension": ".py",
   "mimetype": "text/x-python",
   "name": "python",
   "nbconvert_exporter": "python",
   "pygments_lexer": "ipython3",
   "version": "3.10.2"
  },
  "orig_nbformat": 4
 },
 "nbformat": 4,
 "nbformat_minor": 2
}
