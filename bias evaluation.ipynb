{
 "cells": [
  {
   "cell_type": "code",
   "execution_count": 18,
   "metadata": {},
   "outputs": [],
   "source": [
    "import pandas as pd\n",
    "from sklearn.metrics import accuracy_score\n",
    "from sklearn.metrics import confusion_matrix, classification_report\n",
    "from sklearn.linear_model import LogisticRegression\n",
    "from fairlearn.metrics import MetricFrame, selection_rate, count\n",
    "\n",
    "train_data = pd.read_pickle(open(\"sentence-transformers/train_emb.pkl\", \"rb\"))\n",
    "train_X = list(train_data['TFIDF'])\n",
    "train_y = (train_data['Sentiment'] == 'positive') * 1\n",
    "\n",
    "dev_data = pd.read_pickle(open(\"sentence-transformers/dev_emb.pkl\", \"rb\"))\n",
    "dev_X = list(dev_data['TFIDF'])\n",
    "dev_y  = (dev_data['Sentiment'] == 'positive') * 1\n",
    "\n"
   ]
  },
  {
   "cell_type": "markdown",
   "metadata": {},
   "source": [
    "### Prediction results"
   ]
  },
  {
   "cell_type": "code",
   "execution_count": 19,
   "metadata": {},
   "outputs": [
    {
     "name": "stdout",
     "output_type": "stream",
     "text": [
      "              precision    recall  f1-score   support\n",
      "\n",
      "           0       0.71      0.68      0.69      2000\n",
      "           1       0.69      0.72      0.70      2000\n",
      "\n",
      "    accuracy                           0.70      4000\n",
      "   macro avg       0.70      0.70      0.70      4000\n",
      "weighted avg       0.70      0.70      0.70      4000\n",
      "\n",
      "[[1358  642]\n",
      " [ 565 1435]]\n"
     ]
    }
   ],
   "source": [
    "lr = LogisticRegression(max_iter=500)\n",
    "lr.fit(train_X, train_y)\n",
    "labels_predict = lr.predict(dev_X)\n",
    "print(classification_report(dev_y, labels_predict))\n",
    "print(confusion_matrix(dev_y, labels_predict))"
   ]
  },
  {
   "cell_type": "markdown",
   "metadata": {},
   "source": [
    "### Bias Evaluation"
   ]
  },
  {
   "cell_type": "markdown",
   "metadata": {},
   "source": [
    "#### 1. False positive rate + False negative rate"
   ]
  },
  {
   "cell_type": "code",
   "execution_count": 20,
   "metadata": {},
   "outputs": [
    {
     "name": "stdout",
     "output_type": "stream",
     "text": [
      "[1358  642]\n",
      "False positive rate: 0.321\n",
      "[ 565 1435]\n",
      "False negative rate: 0.2825\n"
     ]
    }
   ],
   "source": [
    "confusion = confusion_matrix(dev_y, labels_predict)\n",
    "print(confusion[0])\n",
    "false_positive_rate = confusion[0][1]/sum(confusion[0])\n",
    "print(\"False positive rate:\", false_positive_rate)\n",
    "\n",
    "print(confusion[1])\n",
    "false_negative_rate = confusion[1][0]/sum(confusion[1])\n",
    "print(\"False negative rate:\", false_negative_rate)"
   ]
  },
  {
   "cell_type": "markdown",
   "metadata": {},
   "source": [
    "#### 2. Accuracy + Selection rate"
   ]
  },
  {
   "cell_type": "code",
   "execution_count": 21,
   "metadata": {},
   "outputs": [
    {
     "name": "stdout",
     "output_type": "stream",
     "text": [
      "accuracy          0.69825\n",
      "selection_rate    0.51925\n",
      "count                4000\n",
      "dtype: object\n",
      "            accuracy selection_rate count\n",
      "Demographic                              \n",
      "AAE           0.6645         0.5655  2000\n",
      "SAE            0.732          0.473  2000\n"
     ]
    }
   ],
   "source": [
    "multi_metrics = {'accuracy': accuracy_score, 'selection_rate': selection_rate, 'count': count}\n",
    "\n",
    "\n",
    "gm = MetricFrame(metrics=multi_metrics, y_true=dev_y, y_pred=labels_predict, sensitive_features=dev_data['Demographic'])\n",
    "print(gm.overall)\n",
    "print(gm.by_group)"
   ]
  },
  {
   "cell_type": "markdown",
   "metadata": {},
   "source": [
    "#### 3. Demographic parity difference"
   ]
  },
  {
   "cell_type": "code",
   "execution_count": 22,
   "metadata": {},
   "outputs": [
    {
     "name": "stdout",
     "output_type": "stream",
     "text": [
      "Difference between selection rate\n",
      "Demographic parity difference: 0.09\n"
     ]
    }
   ],
   "source": [
    "from fairlearn.metrics import demographic_parity_difference\n",
    "\n",
    "group_metrics = demographic_parity_difference(y_true=dev_y, y_pred=labels_predict, sensitive_features=dev_data['Demographic'])\n",
    "print(\"Difference between selection rate\")\n",
    "print(\"Demographic parity difference: {}\".format(round(group_metrics, 2)))"
   ]
  }
 ],
 "metadata": {
  "interpreter": {
   "hash": "aee8b7b246df8f9039afb4144a1f6fd8d2ca17a180786b69acc140d282b71a49"
  },
  "kernelspec": {
   "display_name": "Python 3.10.2 64-bit",
   "language": "python",
   "name": "python3"
  },
  "language_info": {
   "codemirror_mode": {
    "name": "ipython",
    "version": 3
   },
   "file_extension": ".py",
   "mimetype": "text/x-python",
   "name": "python",
   "nbconvert_exporter": "python",
   "pygments_lexer": "ipython3",
   "version": "3.10.2"
  },
  "orig_nbformat": 4
 },
 "nbformat": 4,
 "nbformat_minor": 2
}
