{
 "cells": [
  {
   "cell_type": "code",
   "execution_count": 15,
   "metadata": {},
   "outputs": [],
   "source": [
    "import pandas as pd\n",
    "from sklearn.neighbors import KNeighborsClassifier\n",
    "from sklearn.metrics import confusion_matrix, classification_report"
   ]
  },
  {
   "cell_type": "markdown",
   "metadata": {},
   "source": [
    "## TFIDF"
   ]
  },
  {
   "cell_type": "code",
   "execution_count": 16,
   "metadata": {},
   "outputs": [],
   "source": [
    "train_data = pd.read_pickle(open(\"tfidf/train_tfidf.pkl\", \"rb\"))\n",
    "train_X = list(train_data['TFIDF'])\n",
    "train_y = train_data['Sentiment']\n",
    "dev_data = pd.read_pickle(open(\"tfidf/dev_tfidf.pkl\", \"rb\"))\n",
    "dev_X = list(dev_data['TFIDF'])\n",
    "dev_y = dev_data['Sentiment']"
   ]
  },
  {
   "cell_type": "code",
   "execution_count": 17,
   "metadata": {},
   "outputs": [
    {
     "data": {
      "text/plain": [
       "array(['negative', 'positive', 'negative', ..., 'positive', 'positive',\n",
       "       'negative'], dtype=object)"
      ]
     },
     "execution_count": 17,
     "metadata": {},
     "output_type": "execute_result"
    }
   ],
   "source": [
    "knn = KNeighborsClassifier(n_neighbors=5)\n",
    "knn.fit(train_X, train_y)\n",
    "labels_predict = knn.predict(dev_X)\n",
    "labels_predict"
   ]
  },
  {
   "cell_type": "code",
   "execution_count": 18,
   "metadata": {},
   "outputs": [
    {
     "name": "stdout",
     "output_type": "stream",
     "text": [
      "              precision    recall  f1-score   support\n",
      "\n",
      "    negative       0.60      0.63      0.62      2000\n",
      "    positive       0.61      0.59      0.60      2000\n",
      "\n",
      "    accuracy                           0.61      4000\n",
      "   macro avg       0.61      0.61      0.61      4000\n",
      "weighted avg       0.61      0.61      0.61      4000\n",
      "\n",
      "[[1253  747]\n",
      " [ 821 1179]]\n"
     ]
    }
   ],
   "source": [
    "print(classification_report(dev_y, labels_predict))\n",
    "print(confusion_matrix(dev_y, labels_predict))"
   ]
  },
  {
   "cell_type": "markdown",
   "metadata": {},
   "source": [
    "## Embedding"
   ]
  },
  {
   "cell_type": "code",
   "execution_count": 19,
   "metadata": {},
   "outputs": [],
   "source": [
    "train_data = pd.read_pickle(open(\"sentence-transformers/train_emb.pkl\", \"rb\"))\n",
    "train_X = list(train_data['TFIDF'])\n",
    "train_y = train_data['Sentiment']\n",
    "dev_data = pd.read_pickle(open(\"sentence-transformers/dev_emb.pkl\", \"rb\"))\n",
    "dev_X = list(dev_data['TFIDF'])\n",
    "dev_y = dev_data['Sentiment']"
   ]
  },
  {
   "cell_type": "code",
   "execution_count": 20,
   "metadata": {},
   "outputs": [
    {
     "data": {
      "text/plain": [
       "array(['negative', 'positive', 'negative', ..., 'positive', 'positive',\n",
       "       'negative'], dtype=object)"
      ]
     },
     "execution_count": 20,
     "metadata": {},
     "output_type": "execute_result"
    }
   ],
   "source": [
    "knn = KNeighborsClassifier(n_neighbors=5)\n",
    "knn.fit(train_X, train_y)\n",
    "labels_predict = knn.predict(dev_X)\n",
    "labels_predict"
   ]
  },
  {
   "cell_type": "code",
   "execution_count": 21,
   "metadata": {},
   "outputs": [
    {
     "name": "stdout",
     "output_type": "stream",
     "text": [
      "              precision    recall  f1-score   support\n",
      "\n",
      "    negative       0.66      0.66      0.66      2000\n",
      "    positive       0.66      0.67      0.66      2000\n",
      "\n",
      "    accuracy                           0.66      4000\n",
      "   macro avg       0.66      0.66      0.66      4000\n",
      "weighted avg       0.66      0.66      0.66      4000\n",
      "\n",
      "[[1318  682]\n",
      " [ 667 1333]]\n"
     ]
    }
   ],
   "source": [
    "print(classification_report(dev_y, labels_predict))\n",
    "print(confusion_matrix(dev_y, labels_predict))"
   ]
  }
 ],
 "metadata": {
  "interpreter": {
   "hash": "aee8b7b246df8f9039afb4144a1f6fd8d2ca17a180786b69acc140d282b71a49"
  },
  "kernelspec": {
   "display_name": "Python 3 (ipykernel)",
   "language": "python",
   "name": "python3"
  },
  "language_info": {
   "codemirror_mode": {
    "name": "ipython",
    "version": 3
   },
   "file_extension": ".py",
   "mimetype": "text/x-python",
   "name": "python",
   "nbconvert_exporter": "python",
   "pygments_lexer": "ipython3",
   "version": "3.10.2"
  }
 },
 "nbformat": 4,
 "nbformat_minor": 2
}
