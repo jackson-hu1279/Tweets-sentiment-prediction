{
 "cells": [
  {
   "cell_type": "markdown",
   "metadata": {},
   "source": [
    "### Check Data Balance"
   ]
  },
  {
   "cell_type": "code",
   "execution_count": 1,
   "metadata": {},
   "outputs": [],
   "source": [
    "import pandas as pd"
   ]
  },
  {
   "cell_type": "code",
   "execution_count": 2,
   "metadata": {},
   "outputs": [],
   "source": [
    "# Overall data\n",
    "train_data = pd.read_pickle(open(\"tweets-data/train.pkl\", \"rb\"))\n",
    "dev_data = pd.read_pickle(open(\"tweets-data/dev.pkl\", \"rb\"))"
   ]
  },
  {
   "cell_type": "code",
   "execution_count": 3,
   "metadata": {},
   "outputs": [
    {
     "name": "stdout",
     "output_type": "stream",
     "text": [
      "Overall dsitribution of sentiment and demographic:\n",
      "negative    20000\n",
      "positive    20000\n",
      "Name: Sentiment, dtype: int64\n",
      "AAE    20000\n",
      "SAE    20000\n",
      "Name: Demographic, dtype: int64\n"
     ]
    }
   ],
   "source": [
    "print(\"Overall dsitribution of sentiment and demographic:\")\n",
    "print(train_data['Sentiment'].value_counts())\n",
    "print(train_data['Demographic'].value_counts())"
   ]
  },
  {
   "cell_type": "code",
   "execution_count": 4,
   "metadata": {},
   "outputs": [
    {
     "name": "stdout",
     "output_type": "stream",
     "text": [
      "AAE sentiment distribution:\n",
      "negative    10000\n",
      "positive    10000\n",
      "Name: Sentiment, dtype: int64\n",
      "\n",
      "SAE sentiment distribution:\n",
      "positive    10000\n",
      "negative    10000\n",
      "Name: Sentiment, dtype: int64\n"
     ]
    }
   ],
   "source": [
    "AAE_clean_train_data = train_data[train_data['Demographic'] == 'AAE']\n",
    "print(\"AAE sentiment distribution:\")\n",
    "print(AAE_clean_train_data['Sentiment'].value_counts())\n",
    "\n",
    "SAE_clean_train_data = train_data[train_data['Demographic'] == 'SAE']\n",
    "print(\"\\nSAE sentiment distribution:\")\n",
    "print(SAE_clean_train_data['Sentiment'].value_counts())"
   ]
  }
 ],
 "metadata": {
  "interpreter": {
   "hash": "aee8b7b246df8f9039afb4144a1f6fd8d2ca17a180786b69acc140d282b71a49"
  },
  "kernelspec": {
   "display_name": "Python 3.10.2 64-bit",
   "language": "python",
   "name": "python3"
  },
  "language_info": {
   "codemirror_mode": {
    "name": "ipython",
    "version": 3
   },
   "file_extension": ".py",
   "mimetype": "text/x-python",
   "name": "python",
   "nbconvert_exporter": "python",
   "pygments_lexer": "ipython3",
   "version": "3.10.2"
  },
  "orig_nbformat": 4
 },
 "nbformat": 4,
 "nbformat_minor": 2
}
