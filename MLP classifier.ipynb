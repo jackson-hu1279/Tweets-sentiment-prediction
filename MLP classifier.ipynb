{
 "cells": [
  {
   "cell_type": "code",
   "execution_count": 134,
   "metadata": {},
   "outputs": [],
   "source": [
    "import pandas as pd\n",
    "from sklearn.neural_network import MLPClassifier\n",
    "from sklearn.metrics import confusion_matrix, classification_report, accuracy_score\n",
    "from fairlearn.metrics import MetricFrame, selection_rate, count, demographic_parity_difference\n",
    "from ipynb.fs.defs import ERED"
   ]
  },
  {
   "cell_type": "markdown",
   "metadata": {},
   "source": [
    "### Load Data"
   ]
  },
  {
   "cell_type": "code",
   "execution_count": 135,
   "metadata": {},
   "outputs": [],
   "source": [
    "# Overall data\n",
    "train_data = pd.read_pickle(open(\"sentence-transformers/train_emb.pkl\", \"rb\"))\n",
    "train_X = list(train_data['TFIDF'])\n",
    "train_y = (train_data['Sentiment'] == 'positive') * 1\n",
    "\n",
    "dev_data = pd.read_pickle(open(\"sentence-transformers/dev_emb.pkl\", \"rb\"))\n",
    "dev_X = list(dev_data['TFIDF'])\n",
    "dev_y  = (dev_data['Sentiment'] == 'positive') * 1\n",
    "\n",
    "# AAE\n",
    "# Filter and extract all AAE data\n",
    "train_data = pd.read_pickle(open(\"sentence-transformers/train_emb.pkl\", \"rb\"))\n",
    "AAE_train_data = train_data[train_data['Demographic'] == 'AAE']\n",
    "AAE_train_X = list(AAE_train_data['TFIDF'])\n",
    "AAE_train_y = (AAE_train_data['Sentiment'] == 'positive') * 1\n",
    "\n",
    "dev_data = pd.read_pickle(open(\"sentence-transformers/dev_emb.pkl\", \"rb\"))\n",
    "AAE_dev_data = dev_data[dev_data['Demographic'] == 'AAE']\n",
    "AAE_dev_X = list(AAE_dev_data['TFIDF'])\n",
    "AAE_dev_y  = (AAE_dev_data['Sentiment'] == 'positive') * 1\n",
    "\n",
    "# SAE\n",
    "# Filter and extract all SAE data\n",
    "train_data = pd.read_pickle(open(\"sentence-transformers/train_emb.pkl\", \"rb\"))\n",
    "SAE_train_data = train_data[train_data['Demographic'] == 'SAE']\n",
    "SAE_train_X = list(SAE_train_data['TFIDF'])\n",
    "SAE_train_y = (SAE_train_data['Sentiment'] == 'positive') * 1\n",
    "\n",
    "dev_data = pd.read_pickle(open(\"sentence-transformers/dev_emb.pkl\", \"rb\"))\n",
    "SAE_dev_data = dev_data[dev_data['Demographic'] == 'SAE']\n",
    "SAE_dev_X = list(SAE_dev_data['TFIDF'])\n",
    "SAE_dev_y  = (SAE_dev_data['Sentiment'] == 'positive') * 1"
   ]
  },
  {
   "cell_type": "markdown",
   "metadata": {},
   "source": [
    "### Train Model"
   ]
  },
  {
   "cell_type": "code",
   "execution_count": 136,
   "metadata": {},
   "outputs": [
    {
     "data": {
      "text/plain": [
       "MLPClassifier(max_iter=500, random_state=0)"
      ]
     },
     "execution_count": 136,
     "metadata": {},
     "output_type": "execute_result"
    }
   ],
   "source": [
    "mlp = MLPClassifier(max_iter=500, random_state=0)\n",
    "mlp.fit(train_X, train_y)"
   ]
  },
  {
   "cell_type": "markdown",
   "metadata": {},
   "source": [
    "### Prediction"
   ]
  },
  {
   "cell_type": "markdown",
   "metadata": {},
   "source": [
    "#### 1. Overall"
   ]
  },
  {
   "cell_type": "code",
   "execution_count": 137,
   "metadata": {},
   "outputs": [
    {
     "name": "stdout",
     "output_type": "stream",
     "text": [
      "              precision    recall  f1-score   support\n",
      "\n",
      "           0       0.63      0.64      0.64      2000\n",
      "           1       0.64      0.63      0.63      2000\n",
      "\n",
      "    accuracy                           0.63      4000\n",
      "   macro avg       0.63      0.63      0.63      4000\n",
      "weighted avg       0.63      0.63      0.63      4000\n",
      "\n",
      "[[1275  725]\n",
      " [ 736 1264]]\n"
     ]
    }
   ],
   "source": [
    "overall_labels_predict = mlp.predict(dev_X)\n",
    "overall_confusion = confusion_matrix(dev_y, overall_labels_predict)\n",
    "print(classification_report(dev_y, overall_labels_predict))\n",
    "print(overall_confusion)"
   ]
  },
  {
   "cell_type": "markdown",
   "metadata": {},
   "source": [
    "#### 2. AAE"
   ]
  },
  {
   "cell_type": "code",
   "execution_count": 138,
   "metadata": {},
   "outputs": [
    {
     "name": "stdout",
     "output_type": "stream",
     "text": [
      "              precision    recall  f1-score   support\n",
      "\n",
      "           0       0.61      0.57      0.59      1000\n",
      "           1       0.59      0.63      0.61      1000\n",
      "\n",
      "    accuracy                           0.60      2000\n",
      "   macro avg       0.60      0.60      0.60      2000\n",
      "weighted avg       0.60      0.60      0.60      2000\n",
      "\n",
      "[[571 429]\n",
      " [372 628]]\n"
     ]
    }
   ],
   "source": [
    "AAE_labels_predict = mlp.predict(AAE_dev_X)\n",
    "AAE_confusion = confusion_matrix(AAE_dev_y, AAE_labels_predict)\n",
    "print(classification_report(AAE_dev_y, AAE_labels_predict))\n",
    "print(AAE_confusion)"
   ]
  },
  {
   "cell_type": "markdown",
   "metadata": {},
   "source": [
    "#### 3. SAE"
   ]
  },
  {
   "cell_type": "code",
   "execution_count": 139,
   "metadata": {},
   "outputs": [
    {
     "name": "stdout",
     "output_type": "stream",
     "text": [
      "              precision    recall  f1-score   support\n",
      "\n",
      "           0       0.66      0.70      0.68      1000\n",
      "           1       0.68      0.64      0.66      1000\n",
      "\n",
      "    accuracy                           0.67      2000\n",
      "   macro avg       0.67      0.67      0.67      2000\n",
      "weighted avg       0.67      0.67      0.67      2000\n",
      "\n",
      "[[704 296]\n",
      " [364 636]]\n"
     ]
    }
   ],
   "source": [
    "SAE_labels_predict = mlp.predict(SAE_dev_X)\n",
    "SAE_confusion = confusion_matrix(SAE_dev_y, SAE_labels_predict)\n",
    "print(classification_report(SAE_dev_y, SAE_labels_predict))\n",
    "print(SAE_confusion)"
   ]
  },
  {
   "cell_type": "markdown",
   "metadata": {},
   "source": [
    "### Bias Evaluation"
   ]
  },
  {
   "cell_type": "markdown",
   "metadata": {},
   "source": [
    "#### 1. Accuracy + Demographic count"
   ]
  },
  {
   "cell_type": "code",
   "execution_count": 140,
   "metadata": {},
   "outputs": [
    {
     "name": "stdout",
     "output_type": "stream",
     "text": [
      "accuracy    0.63475\n",
      "count          4000\n",
      "dtype: object\n",
      "            accuracy count\n",
      "Demographic               \n",
      "AAE           0.5995  2000\n",
      "SAE             0.67  2000\n"
     ]
    }
   ],
   "source": [
    "multi_metrics = {'accuracy': accuracy_score, 'count': count}\n",
    "am = MetricFrame(metrics=multi_metrics, y_true=dev_y, y_pred=overall_labels_predict, sensitive_features=dev_data['Demographic'])\n",
    "print(am.overall)\n",
    "print(am.by_group)"
   ]
  },
  {
   "cell_type": "markdown",
   "metadata": {},
   "source": [
    "#### 2. Selection rate + Demographic parity difference"
   ]
  },
  {
   "cell_type": "code",
   "execution_count": 141,
   "metadata": {},
   "outputs": [
    {
     "name": "stdout",
     "output_type": "stream",
     "text": [
      "0.49725\n",
      "Demographic\n",
      "AAE    0.5285\n",
      "SAE     0.466\n",
      "Name: selection_rate, dtype: object\n",
      "\n",
      "Difference between selection rate\n",
      "Demographic parity difference: 0.062\n"
     ]
    }
   ],
   "source": [
    "sm = MetricFrame(metrics=selection_rate, y_true=dev_y, y_pred=overall_labels_predict, sensitive_features=dev_data['Demographic'])\n",
    "print(sm.overall)\n",
    "print(sm.by_group)\n",
    "\n",
    "group_metrics = demographic_parity_difference(y_true=dev_y, y_pred=overall_labels_predict, sensitive_features=dev_data['Demographic'])\n",
    "print(\"\\nDifference between selection rate\")\n",
    "print(\"Demographic parity difference: {}\".format(round(group_metrics, 3)))"
   ]
  },
  {
   "cell_type": "markdown",
   "metadata": {},
   "source": [
    "#### 3. Error Rate Equality Difference"
   ]
  },
  {
   "cell_type": "code",
   "execution_count": 142,
   "metadata": {},
   "outputs": [
    {
     "name": "stdout",
     "output_type": "stream",
     "text": [
      "Sum of FPR difference: 0.133\n",
      "Sum of FNR difference: 0.008\n",
      "Sum of Error Rate Equality Difference: 0.141\n"
     ]
    },
    {
     "data": {
      "text/plain": [
       "0.14100000000000001"
      ]
     },
     "execution_count": 142,
     "metadata": {},
     "output_type": "execute_result"
    }
   ],
   "source": [
    "matrix_lst = [AAE_confusion, SAE_confusion]\n",
    "ERED.cal_sum_ered(overall_confusion, matrix_lst)"
   ]
  }
 ],
 "metadata": {
  "language_info": {
   "name": "python"
  },
  "orig_nbformat": 4
 },
 "nbformat": 4,
 "nbformat_minor": 2
}
