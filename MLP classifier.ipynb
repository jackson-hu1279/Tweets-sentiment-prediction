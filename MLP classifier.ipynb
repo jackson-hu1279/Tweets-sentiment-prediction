{
 "cells": [
  {
   "cell_type": "code",
   "execution_count": 10,
   "metadata": {},
   "outputs": [],
   "source": [
    "import pandas as pd\n",
    "from sklearn.neural_network import MLPClassifier\n",
    "from sklearn.metrics import confusion_matrix, classification_report, accuracy_score\n",
    "from fairlearn.metrics import MetricFrame, selection_rate, count, demographic_parity_difference\n",
    "from ipynb.fs.defs import ERED"
   ]
  },
  {
   "cell_type": "markdown",
   "metadata": {},
   "source": [
    "### Load Data"
   ]
  },
  {
   "cell_type": "code",
   "execution_count": 11,
   "metadata": {},
   "outputs": [],
   "source": [
    "# Overall data\n",
    "# Sentence-transformers test set\n",
    "# train_data = pd.read_pickle(open(\"sentence-transformers/train_emb.pkl\", \"rb\"))    # Original data\n",
    "train_data = pd.read_pickle(open(\"sentence-transformers/clean_train_emb.pkl\", \"rb\"))  # Noise reduced\n",
    "# dev_data = pd.read_pickle(open(\"sentence-transformers/dev_emb.pkl\", \"rb\"))  # Original data\n",
    "dev_data = pd.read_pickle(open(\"sentence-transformers/clean_dev_emb.pkl\", \"rb\"))  # Noise reduced\n",
    "\n",
    "# TFIDF test set\n",
    "# train_data = pd.read_pickle(open(\"tfidf/train_tfidf.pkl\", \"rb\"))\n",
    "# dev_data = pd.read_pickle(open(\"tfidf/dev_tfidf.pkl\", \"rb\"))\n",
    "\n",
    "train_X = list(train_data['TFIDF'])\n",
    "train_y = (train_data['Sentiment'] == 'positive') * 1\n",
    "\n",
    "dev_X = list(dev_data['TFIDF'])\n",
    "dev_y  = (dev_data['Sentiment'] == 'positive') * 1\n",
    "\n",
    "# AAE\n",
    "# Filter and extract all AAE data\n",
    "AAE_train_data = train_data[train_data['Demographic'] == 'AAE']\n",
    "AAE_train_X = list(AAE_train_data['TFIDF'])\n",
    "AAE_train_y = (AAE_train_data['Sentiment'] == 'positive') * 1\n",
    "\n",
    "AAE_dev_data = dev_data[dev_data['Demographic'] == 'AAE']\n",
    "AAE_dev_X = list(AAE_dev_data['TFIDF'])\n",
    "AAE_dev_y  = (AAE_dev_data['Sentiment'] == 'positive') * 1\n",
    "\n",
    "# SAE\n",
    "# Filter and extract all SAE data\n",
    "SAE_train_data = train_data[train_data['Demographic'] == 'SAE']\n",
    "SAE_train_X = list(SAE_train_data['TFIDF'])\n",
    "SAE_train_y = (SAE_train_data['Sentiment'] == 'positive') * 1\n",
    "\n",
    "SAE_dev_data = dev_data[dev_data['Demographic'] == 'SAE']\n",
    "SAE_dev_X = list(SAE_dev_data['TFIDF'])\n",
    "SAE_dev_y  = (SAE_dev_data['Sentiment'] == 'positive') * 1"
   ]
  },
  {
   "cell_type": "markdown",
   "metadata": {},
   "source": [
    "### Train Model"
   ]
  },
  {
   "cell_type": "code",
   "execution_count": 12,
   "metadata": {},
   "outputs": [
    {
     "data": {
      "text/plain": [
       "MLPClassifier(max_iter=500, random_state=0)"
      ]
     },
     "execution_count": 12,
     "metadata": {},
     "output_type": "execute_result"
    }
   ],
   "source": [
    "mlp = MLPClassifier(max_iter=500, random_state=0)\n",
    "mlp.fit(train_X, train_y)"
   ]
  },
  {
   "cell_type": "markdown",
   "metadata": {},
   "source": [
    "### Prediction"
   ]
  },
  {
   "cell_type": "markdown",
   "metadata": {},
   "source": [
    "#### 1. Overall"
   ]
  },
  {
   "cell_type": "code",
   "execution_count": 13,
   "metadata": {},
   "outputs": [
    {
     "name": "stdout",
     "output_type": "stream",
     "text": [
      "              precision    recall  f1-score   support\n",
      "\n",
      "           0       0.66      0.65      0.65      2000\n",
      "           1       0.65      0.66      0.66      2000\n",
      "\n",
      "    accuracy                           0.65      4000\n",
      "   macro avg       0.65      0.65      0.65      4000\n",
      "weighted avg       0.65      0.65      0.65      4000\n",
      "\n",
      "[[1296  704]\n",
      " [ 681 1319]]\n"
     ]
    }
   ],
   "source": [
    "overall_labels_predict = mlp.predict(dev_X)\n",
    "overall_confusion = confusion_matrix(dev_y, overall_labels_predict)\n",
    "print(classification_report(dev_y, overall_labels_predict))\n",
    "print(overall_confusion)"
   ]
  },
  {
   "cell_type": "markdown",
   "metadata": {},
   "source": [
    "#### 2. AAE"
   ]
  },
  {
   "cell_type": "code",
   "execution_count": 14,
   "metadata": {},
   "outputs": [
    {
     "name": "stdout",
     "output_type": "stream",
     "text": [
      "              precision    recall  f1-score   support\n",
      "\n",
      "           0       0.63      0.58      0.60      1000\n",
      "           1       0.61      0.66      0.63      1000\n",
      "\n",
      "    accuracy                           0.62      2000\n",
      "   macro avg       0.62      0.62      0.62      2000\n",
      "weighted avg       0.62      0.62      0.62      2000\n",
      "\n",
      "[[582 418]\n",
      " [345 655]]\n"
     ]
    }
   ],
   "source": [
    "AAE_labels_predict = mlp.predict(AAE_dev_X)\n",
    "AAE_confusion = confusion_matrix(AAE_dev_y, AAE_labels_predict)\n",
    "print(classification_report(AAE_dev_y, AAE_labels_predict))\n",
    "print(AAE_confusion)"
   ]
  },
  {
   "cell_type": "markdown",
   "metadata": {},
   "source": [
    "#### 3. SAE"
   ]
  },
  {
   "cell_type": "code",
   "execution_count": 15,
   "metadata": {},
   "outputs": [
    {
     "name": "stdout",
     "output_type": "stream",
     "text": [
      "              precision    recall  f1-score   support\n",
      "\n",
      "           0       0.68      0.71      0.70      1000\n",
      "           1       0.70      0.66      0.68      1000\n",
      "\n",
      "    accuracy                           0.69      2000\n",
      "   macro avg       0.69      0.69      0.69      2000\n",
      "weighted avg       0.69      0.69      0.69      2000\n",
      "\n",
      "[[714 286]\n",
      " [336 664]]\n"
     ]
    }
   ],
   "source": [
    "SAE_labels_predict = mlp.predict(SAE_dev_X)\n",
    "SAE_confusion = confusion_matrix(SAE_dev_y, SAE_labels_predict)\n",
    "print(classification_report(SAE_dev_y, SAE_labels_predict))\n",
    "print(SAE_confusion)"
   ]
  },
  {
   "cell_type": "markdown",
   "metadata": {},
   "source": [
    "### Bias Evaluation"
   ]
  },
  {
   "cell_type": "markdown",
   "metadata": {},
   "source": [
    "#### 1. Accuracy + Demographic count"
   ]
  },
  {
   "cell_type": "code",
   "execution_count": 16,
   "metadata": {},
   "outputs": [
    {
     "name": "stdout",
     "output_type": "stream",
     "text": [
      "accuracy    0.65375\n",
      "count          4000\n",
      "dtype: object\n",
      "            accuracy count\n",
      "Demographic               \n",
      "AAE           0.6185  2000\n",
      "SAE            0.689  2000\n"
     ]
    }
   ],
   "source": [
    "multi_metrics = {'accuracy': accuracy_score, 'count': count}\n",
    "am = MetricFrame(metrics=multi_metrics, y_true=dev_y, y_pred=overall_labels_predict, sensitive_features=dev_data['Demographic'])\n",
    "print(am.overall)\n",
    "print(am.by_group)"
   ]
  },
  {
   "cell_type": "markdown",
   "metadata": {},
   "source": [
    "#### 2. Selection rate + Demographic parity difference"
   ]
  },
  {
   "cell_type": "code",
   "execution_count": 17,
   "metadata": {},
   "outputs": [
    {
     "name": "stdout",
     "output_type": "stream",
     "text": [
      "0.50575\n",
      "Demographic\n",
      "AAE    0.5365\n",
      "SAE     0.475\n",
      "Name: selection_rate, dtype: object\n",
      "\n",
      "Difference between selection rate\n",
      "Demographic parity difference: 0.062\n"
     ]
    }
   ],
   "source": [
    "sm = MetricFrame(metrics=selection_rate, y_true=dev_y, y_pred=overall_labels_predict, sensitive_features=dev_data['Demographic'])\n",
    "print(sm.overall)\n",
    "print(sm.by_group)\n",
    "\n",
    "group_metrics = demographic_parity_difference(y_true=dev_y, y_pred=overall_labels_predict, sensitive_features=dev_data['Demographic'])\n",
    "print(\"\\nDifference between selection rate\")\n",
    "print(\"Demographic parity difference: {}\".format(round(group_metrics, 3)))"
   ]
  },
  {
   "cell_type": "markdown",
   "metadata": {},
   "source": [
    "#### 3. Error Rate Equality Difference"
   ]
  },
  {
   "cell_type": "code",
   "execution_count": 18,
   "metadata": {},
   "outputs": [
    {
     "name": "stdout",
     "output_type": "stream",
     "text": [
      "Sum of FPR difference: 0.132\n",
      "Sum of FNR difference: 0.009\n",
      "Sum of Error Rate Equality Difference: 0.141\n"
     ]
    },
    {
     "data": {
      "text/plain": [
       "0.14099999999999996"
      ]
     },
     "execution_count": 18,
     "metadata": {},
     "output_type": "execute_result"
    }
   ],
   "source": [
    "matrix_lst = [AAE_confusion, SAE_confusion]\n",
    "ERED.cal_sum_ered(overall_confusion, matrix_lst)"
   ]
  }
 ],
 "metadata": {
  "interpreter": {
   "hash": "aee8b7b246df8f9039afb4144a1f6fd8d2ca17a180786b69acc140d282b71a49"
  },
  "kernelspec": {
   "display_name": "Python 3.10.2 64-bit",
   "language": "python",
   "name": "python3"
  },
  "language_info": {
   "codemirror_mode": {
    "name": "ipython",
    "version": 3
   },
   "file_extension": ".py",
   "mimetype": "text/x-python",
   "name": "python",
   "nbconvert_exporter": "python",
   "pygments_lexer": "ipython3",
   "version": "3.10.2"
  },
  "orig_nbformat": 4
 },
 "nbformat": 4,
 "nbformat_minor": 2
}
