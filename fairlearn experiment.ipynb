{
 "cells": [
  {
   "cell_type": "code",
   "execution_count": 83,
   "metadata": {},
   "outputs": [
    {
     "name": "stdout",
     "output_type": "stream",
     "text": [
      "(4000, 3)\n"
     ]
    },
    {
     "data": {
      "text/html": [
       "<div>\n",
       "<style scoped>\n",
       "    .dataframe tbody tr th:only-of-type {\n",
       "        vertical-align: middle;\n",
       "    }\n",
       "\n",
       "    .dataframe tbody tr th {\n",
       "        vertical-align: top;\n",
       "    }\n",
       "\n",
       "    .dataframe thead th {\n",
       "        text-align: right;\n",
       "    }\n",
       "</style>\n",
       "<table border=\"1\" class=\"dataframe\">\n",
       "  <thead>\n",
       "    <tr style=\"text-align: right;\">\n",
       "      <th></th>\n",
       "      <th>TFIDF</th>\n",
       "      <th>Sentiment</th>\n",
       "      <th>Demographic</th>\n",
       "    </tr>\n",
       "  </thead>\n",
       "  <tbody>\n",
       "    <tr>\n",
       "      <th>0</th>\n",
       "      <td>[0.6474391, -0.16008961, -0.0384805, -0.055743...</td>\n",
       "      <td>negative</td>\n",
       "      <td>AAE</td>\n",
       "    </tr>\n",
       "    <tr>\n",
       "      <th>1</th>\n",
       "      <td>[-0.46402082, -0.01659155, -0.11589231, 0.0663...</td>\n",
       "      <td>positive</td>\n",
       "      <td>SAE</td>\n",
       "    </tr>\n",
       "    <tr>\n",
       "      <th>2</th>\n",
       "      <td>[-0.2135342, -0.13803191, 0.0063680536, 0.1387...</td>\n",
       "      <td>negative</td>\n",
       "      <td>SAE</td>\n",
       "    </tr>\n",
       "    <tr>\n",
       "      <th>3</th>\n",
       "      <td>[-0.11654136, 0.0666835, -0.16254754, 0.283332...</td>\n",
       "      <td>negative</td>\n",
       "      <td>AAE</td>\n",
       "    </tr>\n",
       "    <tr>\n",
       "      <th>4</th>\n",
       "      <td>[-0.07384539, 0.119822726, -0.14089826, -0.030...</td>\n",
       "      <td>positive</td>\n",
       "      <td>AAE</td>\n",
       "    </tr>\n",
       "    <tr>\n",
       "      <th>...</th>\n",
       "      <td>...</td>\n",
       "      <td>...</td>\n",
       "      <td>...</td>\n",
       "    </tr>\n",
       "    <tr>\n",
       "      <th>3995</th>\n",
       "      <td>[0.33018523, 0.12846671, 0.13521102, -0.603940...</td>\n",
       "      <td>positive</td>\n",
       "      <td>SAE</td>\n",
       "    </tr>\n",
       "    <tr>\n",
       "      <th>3996</th>\n",
       "      <td>[0.26813492, -0.19372055, 0.50591606, 0.017007...</td>\n",
       "      <td>positive</td>\n",
       "      <td>AAE</td>\n",
       "    </tr>\n",
       "    <tr>\n",
       "      <th>3997</th>\n",
       "      <td>[-0.41071716, -0.41620988, -0.0080907, -0.1553...</td>\n",
       "      <td>positive</td>\n",
       "      <td>SAE</td>\n",
       "    </tr>\n",
       "    <tr>\n",
       "      <th>3998</th>\n",
       "      <td>[-0.13831554, 0.22926502, 0.17020255, -0.34705...</td>\n",
       "      <td>positive</td>\n",
       "      <td>AAE</td>\n",
       "    </tr>\n",
       "    <tr>\n",
       "      <th>3999</th>\n",
       "      <td>[-0.058211293, -0.3638927, 0.17164306, -0.1137...</td>\n",
       "      <td>negative</td>\n",
       "      <td>AAE</td>\n",
       "    </tr>\n",
       "  </tbody>\n",
       "</table>\n",
       "<p>4000 rows × 3 columns</p>\n",
       "</div>"
      ],
      "text/plain": [
       "                                                  TFIDF Sentiment Demographic\n",
       "0     [0.6474391, -0.16008961, -0.0384805, -0.055743...  negative         AAE\n",
       "1     [-0.46402082, -0.01659155, -0.11589231, 0.0663...  positive         SAE\n",
       "2     [-0.2135342, -0.13803191, 0.0063680536, 0.1387...  negative         SAE\n",
       "3     [-0.11654136, 0.0666835, -0.16254754, 0.283332...  negative         AAE\n",
       "4     [-0.07384539, 0.119822726, -0.14089826, -0.030...  positive         AAE\n",
       "...                                                 ...       ...         ...\n",
       "3995  [0.33018523, 0.12846671, 0.13521102, -0.603940...  positive         SAE\n",
       "3996  [0.26813492, -0.19372055, 0.50591606, 0.017007...  positive         AAE\n",
       "3997  [-0.41071716, -0.41620988, -0.0080907, -0.1553...  positive         SAE\n",
       "3998  [-0.13831554, 0.22926502, 0.17020255, -0.34705...  positive         AAE\n",
       "3999  [-0.058211293, -0.3638927, 0.17164306, -0.1137...  negative         AAE\n",
       "\n",
       "[4000 rows x 3 columns]"
      ]
     },
     "execution_count": 83,
     "metadata": {},
     "output_type": "execute_result"
    }
   ],
   "source": [
    "import pandas as pd\n",
    "from sklearn.metrics import accuracy_score\n",
    "from sklearn.metrics import confusion_matrix, classification_report\n",
    "from sklearn.linear_model import LogisticRegression\n",
    "from fairlearn.metrics import MetricFrame, selection_rate, count\n",
    "\n",
    "train_data = pd.read_pickle(open(\"sentence-transformers/train_emb.pkl\", \"rb\"))\n",
    "train_X = list(train_data['TFIDF'])\n",
    "train_y = train_data['Sentiment']\n",
    "dev_data = pd.read_pickle(open(\"sentence-transformers/dev_emb.pkl\", \"rb\"))\n",
    "dev_X = list(dev_data['TFIDF'])\n",
    "dev_y = dev_data['Sentiment']\n",
    "\n",
    "print(dev_data.shape)\n",
    "train_data.head()\n",
    "dev_data"
   ]
  },
  {
   "cell_type": "code",
   "execution_count": 84,
   "metadata": {},
   "outputs": [
    {
     "name": "stdout",
     "output_type": "stream",
     "text": [
      "              precision    recall  f1-score   support\n",
      "\n",
      "    negative       0.71      0.68      0.69      2000\n",
      "    positive       0.69      0.72      0.70      2000\n",
      "\n",
      "    accuracy                           0.70      4000\n",
      "   macro avg       0.70      0.70      0.70      4000\n",
      "weighted avg       0.70      0.70      0.70      4000\n",
      "\n",
      "[[1358  642]\n",
      " [ 565 1435]]\n"
     ]
    }
   ],
   "source": [
    "lr = LogisticRegression(max_iter=500)\n",
    "lr.fit(train_X, train_y)\n",
    "labels_predict = lr.predict(dev_X)\n",
    "print(classification_report(dev_y, labels_predict))\n",
    "print(confusion_matrix(dev_y, labels_predict))"
   ]
  },
  {
   "cell_type": "code",
   "execution_count": 85,
   "metadata": {},
   "outputs": [
    {
     "name": "stdout",
     "output_type": "stream",
     "text": [
      "Overall accuracy score: 0.69825\n",
      "Demographic\n",
      "AAE    0.6645\n",
      "SAE     0.732\n",
      "Name: accuracy_score, dtype: object\n"
     ]
    }
   ],
   "source": [
    "gm = MetricFrame(metrics=accuracy_score, y_true=dev_y, y_pred=labels_predict, sensitive_features=dev_data['Demographic'])\n",
    "print(\"Overall accuracy score:\", gm.overall)\n",
    "print(gm.by_group) "
   ]
  },
  {
   "cell_type": "code",
   "execution_count": 86,
   "metadata": {},
   "outputs": [
    {
     "name": "stdout",
     "output_type": "stream",
     "text": [
      "4000\n",
      "Demographic\n",
      "AAE    2000\n",
      "SAE    2000\n",
      "Name: count, dtype: object\n"
     ]
    }
   ],
   "source": [
    "# Number of AAE and SAE in dev_data\n",
    "sr = MetricFrame(metrics=count, y_true=dev_y, y_pred=labels_predict, sensitive_features=dev_data['Demographic'])\n",
    "print(sr.overall)\n",
    "print(sr.by_group)"
   ]
  },
  {
   "cell_type": "code",
   "execution_count": 89,
   "metadata": {},
   "outputs": [
    {
     "data": {
      "text/plain": [
       "array([[<AxesSubplot:title={'center':'accuracy'}, xlabel='Demographic'>,\n",
       "        <AxesSubplot:title={'center':'count'}, xlabel='Demographic'>],\n",
       "       [<AxesSubplot:xlabel='Demographic'>,\n",
       "        <AxesSubplot:xlabel='Demographic'>],\n",
       "       [<AxesSubplot:xlabel='Demographic'>,\n",
       "        <AxesSubplot:xlabel='Demographic'>]], dtype=object)"
      ]
     },
     "execution_count": 89,
     "metadata": {},
     "output_type": "execute_result"
    },
    {
     "data": {
      "image/png": "[encoded data removed]",
      "text/plain": [
       "<Figure size 864x576 with 6 Axes>"
      ]
     },
     "metadata": {
      "needs_background": "light"
     },
     "output_type": "display_data"
    }
   ],
   "source": [
    "metrics = {'accuracy': accuracy_score, 'count': count}\n",
    "\n",
    "metric_frame = MetricFrame(metrics=metrics,\n",
    "                           y_true=dev_y,\n",
    "                           y_pred=labels_predict,\n",
    "                           sensitive_features=dev_data['Demographic'])\n",
    "metric_frame.by_group.plot.bar(\n",
    "    subplots=True,\n",
    "    layout=[3, 2],\n",
    "    legend=False,\n",
    "    figsize=[12, 8],\n",
    "    title=\"Show all metrics\",\n",
    ")"
   ]
  }
 ],
 "metadata": {
  "interpreter": {
   "hash": "aee8b7b246df8f9039afb4144a1f6fd8d2ca17a180786b69acc140d282b71a49"
  },
  "kernelspec": {
   "display_name": "Python 3 (ipykernel)",
   "language": "python",
   "name": "python3"
  },
  "language_info": {
   "codemirror_mode": {
    "name": "ipython",
    "version": 3
   },
   "file_extension": ".py",
   "mimetype": "text/x-python",
   "name": "python",
   "nbconvert_exporter": "python",
   "pygments_lexer": "ipython3",
   "version": "3.10.2"
  }
 },
 "nbformat": 4,
 "nbformat_minor": 2
}
