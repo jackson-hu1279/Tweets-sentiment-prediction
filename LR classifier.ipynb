{
 "cells": [
  {
   "cell_type": "code",
   "execution_count": 18,
   "metadata": {},
   "outputs": [],
   "source": [
    "import pandas as pd\n",
    "import numpy as np\n",
    "from sklearn.linear_model import LogisticRegression\n",
    "from sklearn.metrics import confusion_matrix, classification_report, accuracy_score\n",
    "from fairlearn.metrics import MetricFrame, selection_rate, count, demographic_parity_difference\n",
    "from ipynb.fs.defs import ERED"
   ]
  },
  {
   "cell_type": "markdown",
   "metadata": {},
   "source": [
    "### Load Data"
   ]
  },
  {
   "cell_type": "code",
   "execution_count": 19,
   "metadata": {},
   "outputs": [],
   "source": [
    "# Overall data\n",
    "# Sentence-transformers test set\n",
    "# train_data = pd.read_pickle(open(\"sentence-transformers/train_emb.pkl\", \"rb\"))    # Original data\n",
    "train_data = pd.read_pickle(open(\"sentence-transformers/clean_train_emb.pkl\", \"rb\"))  # Noise reduced\n",
    "# dev_data = pd.read_pickle(open(\"sentence-transformers/dev_emb.pkl\", \"rb\"))  # Original data\n",
    "dev_data = pd.read_pickle(open(\"sentence-transformers/clean_dev_emb.pkl\", \"rb\"))  # Noise reduced\n",
    "\n",
    "# TFIDF test set\n",
    "# train_data = pd.read_pickle(open(\"tfidf/train_tfidf.pkl\", \"rb\"))\n",
    "# dev_data = pd.read_pickle(open(\"tfidf/dev_tfidf.pkl\", \"rb\"))\n",
    "\n",
    "train_X = list(train_data['TFIDF'])\n",
    "train_y = (train_data['Sentiment'] == 'positive') * 1\n",
    "\n",
    "dev_X = list(dev_data['TFIDF'])\n",
    "dev_y  = (dev_data['Sentiment'] == 'positive') * 1\n",
    "\n",
    "# AAE\n",
    "# Filter and extract all AAE data\n",
    "AAE_train_data = train_data[train_data['Demographic'] == 'AAE']\n",
    "AAE_train_X = list(AAE_train_data['TFIDF'])\n",
    "AAE_train_y = (AAE_train_data['Sentiment'] == 'positive') * 1\n",
    "\n",
    "AAE_dev_data = dev_data[dev_data['Demographic'] == 'AAE']\n",
    "AAE_dev_X = list(AAE_dev_data['TFIDF'])\n",
    "AAE_dev_y  = (AAE_dev_data['Sentiment'] == 'positive') * 1\n",
    "\n",
    "# SAE\n",
    "# Filter and extract all SAE data\n",
    "SAE_train_data = train_data[train_data['Demographic'] == 'SAE']\n",
    "SAE_train_X = list(SAE_train_data['TFIDF'])\n",
    "SAE_train_y = (SAE_train_data['Sentiment'] == 'positive') * 1\n",
    "\n",
    "SAE_dev_data = dev_data[dev_data['Demographic'] == 'SAE']\n",
    "SAE_dev_X = list(SAE_dev_data['TFIDF'])\n",
    "SAE_dev_y  = (SAE_dev_data['Sentiment'] == 'positive') * 1"
   ]
  },
  {
   "cell_type": "markdown",
   "metadata": {},
   "source": [
    "---"
   ]
  },
  {
   "cell_type": "markdown",
   "metadata": {},
   "source": [
    "### Train Logistic Regression Model"
   ]
  },
  {
   "cell_type": "code",
   "execution_count": 20,
   "metadata": {},
   "outputs": [
    {
     "data": {
      "text/plain": [
       "LogisticRegression(max_iter=500)"
      ]
     },
     "execution_count": 20,
     "metadata": {},
     "output_type": "execute_result"
    }
   ],
   "source": [
    "lr = LogisticRegression(max_iter=500)\n",
    "lr.fit(train_X, train_y)"
   ]
  },
  {
   "cell_type": "markdown",
   "metadata": {},
   "source": [
    "### Prediction"
   ]
  },
  {
   "cell_type": "markdown",
   "metadata": {},
   "source": [
    "#### 1. Overall"
   ]
  },
  {
   "cell_type": "code",
   "execution_count": 21,
   "metadata": {},
   "outputs": [
    {
     "name": "stdout",
     "output_type": "stream",
     "text": [
      "              precision    recall  f1-score   support\n",
      "\n",
      "           0       0.70      0.68      0.69      2000\n",
      "           1       0.69      0.71      0.70      2000\n",
      "\n",
      "    accuracy                           0.70      4000\n",
      "   macro avg       0.70      0.70      0.70      4000\n",
      "weighted avg       0.70      0.70      0.70      4000\n",
      "\n",
      "[[1366  634]\n",
      " [ 581 1419]]\n"
     ]
    }
   ],
   "source": [
    "overall_labels_predict = lr.predict(dev_X)\n",
    "overall_confusion = confusion_matrix(dev_y, overall_labels_predict)\n",
    "print(classification_report(dev_y, overall_labels_predict))\n",
    "print(overall_confusion)"
   ]
  },
  {
   "cell_type": "markdown",
   "metadata": {},
   "source": [
    "#### 2. AAE"
   ]
  },
  {
   "cell_type": "code",
   "execution_count": 22,
   "metadata": {},
   "outputs": [
    {
     "name": "stdout",
     "output_type": "stream",
     "text": [
      "              precision    recall  f1-score   support\n",
      "\n",
      "           0       0.67      0.57      0.62      1000\n",
      "           1       0.63      0.72      0.67      1000\n",
      "\n",
      "    accuracy                           0.65      2000\n",
      "   macro avg       0.65      0.65      0.65      2000\n",
      "weighted avg       0.65      0.65      0.65      2000\n",
      "\n",
      "[[575 425]\n",
      " [277 723]]\n"
     ]
    }
   ],
   "source": [
    "AAE_labels_predict = lr.predict(AAE_dev_X)\n",
    "AAE_confusion = confusion_matrix(AAE_dev_y, AAE_labels_predict)\n",
    "print(classification_report(AAE_dev_y, AAE_labels_predict))\n",
    "print(AAE_confusion)"
   ]
  },
  {
   "cell_type": "markdown",
   "metadata": {},
   "source": [
    "#### 3. SAE"
   ]
  },
  {
   "cell_type": "code",
   "execution_count": 23,
   "metadata": {},
   "outputs": [
    {
     "name": "stdout",
     "output_type": "stream",
     "text": [
      "              precision    recall  f1-score   support\n",
      "\n",
      "           0       0.72      0.79      0.76      1000\n",
      "           1       0.77      0.70      0.73      1000\n",
      "\n",
      "    accuracy                           0.74      2000\n",
      "   macro avg       0.75      0.74      0.74      2000\n",
      "weighted avg       0.75      0.74      0.74      2000\n",
      "\n",
      "[[791 209]\n",
      " [304 696]]\n"
     ]
    }
   ],
   "source": [
    "SAE_labels_predict = lr.predict(SAE_dev_X)\n",
    "SAE_confusion = confusion_matrix(SAE_dev_y, SAE_labels_predict)\n",
    "print(classification_report(SAE_dev_y, SAE_labels_predict))\n",
    "print(SAE_confusion)"
   ]
  },
  {
   "cell_type": "markdown",
   "metadata": {},
   "source": [
    "### Bias Evaluation"
   ]
  },
  {
   "cell_type": "markdown",
   "metadata": {},
   "source": [
    "#### 1. Accuracy + Demographic count"
   ]
  },
  {
   "cell_type": "code",
   "execution_count": 24,
   "metadata": {},
   "outputs": [
    {
     "name": "stdout",
     "output_type": "stream",
     "text": [
      "accuracy    0.69625\n",
      "count          4000\n",
      "dtype: object\n",
      "            accuracy count\n",
      "Demographic               \n",
      "AAE            0.649  2000\n",
      "SAE           0.7435  2000\n"
     ]
    }
   ],
   "source": [
    "multi_metrics = {'accuracy': accuracy_score, 'count': count}\n",
    "am = MetricFrame(metrics=multi_metrics, y_true=dev_y, y_pred=overall_labels_predict, sensitive_features=dev_data['Demographic'])\n",
    "print(am.overall)\n",
    "print(am.by_group)"
   ]
  },
  {
   "cell_type": "markdown",
   "metadata": {},
   "source": [
    "#### 2. Selection rate + Demographic parity difference"
   ]
  },
  {
   "cell_type": "code",
   "execution_count": 25,
   "metadata": {},
   "outputs": [
    {
     "name": "stdout",
     "output_type": "stream",
     "text": [
      "0.51325\n",
      "Demographic\n",
      "AAE     0.574\n",
      "SAE    0.4525\n",
      "Name: selection_rate, dtype: object\n",
      "\n",
      "Difference between selection rate\n",
      "Demographic parity difference: 0.121\n"
     ]
    }
   ],
   "source": [
    "sm = MetricFrame(metrics=selection_rate, y_true=dev_y, y_pred=overall_labels_predict, sensitive_features=dev_data['Demographic'])\n",
    "print(sm.overall)\n",
    "print(sm.by_group)\n",
    "\n",
    "group_metrics = demographic_parity_difference(y_true=dev_y, y_pred=overall_labels_predict, sensitive_features=dev_data['Demographic'])\n",
    "print(\"\\nDifference between selection rate\")\n",
    "print(\"Demographic parity difference: {}\".format(round(group_metrics, 3)))"
   ]
  },
  {
   "cell_type": "markdown",
   "metadata": {},
   "source": [
    "#### 3. Error Rate Equality Difference"
   ]
  },
  {
   "cell_type": "code",
   "execution_count": 26,
   "metadata": {},
   "outputs": [
    {
     "name": "stdout",
     "output_type": "stream",
     "text": [
      "Sum of FPR difference: 0.216\n",
      "Sum of FNR difference: 0.027\n",
      "Sum of Error Rate Equality Difference: 0.243\n"
     ]
    },
    {
     "data": {
      "text/plain": [
       "0.24299999999999997"
      ]
     },
     "execution_count": 26,
     "metadata": {},
     "output_type": "execute_result"
    }
   ],
   "source": [
    "matrix_lst = [AAE_confusion, SAE_confusion]\n",
    "ERED.cal_sum_ered(overall_confusion, matrix_lst)"
   ]
  },
  {
   "cell_type": "markdown",
   "metadata": {},
   "source": [
    "---"
   ]
  },
  {
   "cell_type": "markdown",
   "metadata": {},
   "source": [
    "## Bias Mitigation"
   ]
  },
  {
   "cell_type": "markdown",
   "metadata": {},
   "source": [
    "### Exponentiated Gradient"
   ]
  },
  {
   "cell_type": "code",
   "execution_count": 27,
   "metadata": {},
   "outputs": [],
   "source": [
    "from fairlearn.reductions import ExponentiatedGradient, DemographicParity\n",
    "np.random.seed(0)"
   ]
  },
  {
   "cell_type": "code",
   "execution_count": 28,
   "metadata": {},
   "outputs": [
    {
     "name": "stderr",
     "output_type": "stream",
     "text": [
      "/Library/Frameworks/Python.framework/Versions/3.10/lib/python3.10/site-packages/fairlearn/reductions/_moments/utility_parity.py:251: FutureWarning: Using the level keyword in DataFrame and Series aggregations is deprecated and will be removed in a future version. Use groupby instead. df.sum(level=1) should use df.groupby(level=1).sum().\n",
      "  lambda_event = (lambda_vec[\"+\"] - self.ratio * lambda_vec[\"-\"]).sum(level=_EVENT) / \\\n",
      "/Library/Frameworks/Python.framework/Versions/3.10/lib/python3.10/site-packages/fairlearn/reductions/_moments/utility_parity.py:251: FutureWarning: Using the level keyword in DataFrame and Series aggregations is deprecated and will be removed in a future version. Use groupby instead. df.sum(level=1) should use df.groupby(level=1).sum().\n",
      "  lambda_event = (lambda_vec[\"+\"] - self.ratio * lambda_vec[\"-\"]).sum(level=_EVENT) / \\\n",
      "/Library/Frameworks/Python.framework/Versions/3.10/lib/python3.10/site-packages/fairlearn/reductions/_moments/utility_parity.py:251: FutureWarning: Using the level keyword in DataFrame and Series aggregations is deprecated and will be removed in a future version. Use groupby instead. df.sum(level=1) should use df.groupby(level=1).sum().\n",
      "  lambda_event = (lambda_vec[\"+\"] - self.ratio * lambda_vec[\"-\"]).sum(level=_EVENT) / \\\n",
      "/Library/Frameworks/Python.framework/Versions/3.10/lib/python3.10/site-packages/fairlearn/reductions/_moments/utility_parity.py:251: FutureWarning: Using the level keyword in DataFrame and Series aggregations is deprecated and will be removed in a future version. Use groupby instead. df.sum(level=1) should use df.groupby(level=1).sum().\n",
      "  lambda_event = (lambda_vec[\"+\"] - self.ratio * lambda_vec[\"-\"]).sum(level=_EVENT) / \\\n",
      "/Library/Frameworks/Python.framework/Versions/3.10/lib/python3.10/site-packages/fairlearn/reductions/_moments/utility_parity.py:251: FutureWarning: Using the level keyword in DataFrame and Series aggregations is deprecated and will be removed in a future version. Use groupby instead. df.sum(level=1) should use df.groupby(level=1).sum().\n",
      "  lambda_event = (lambda_vec[\"+\"] - self.ratio * lambda_vec[\"-\"]).sum(level=_EVENT) / \\\n",
      "/Library/Frameworks/Python.framework/Versions/3.10/lib/python3.10/site-packages/fairlearn/reductions/_moments/utility_parity.py:251: FutureWarning: Using the level keyword in DataFrame and Series aggregations is deprecated and will be removed in a future version. Use groupby instead. df.sum(level=1) should use df.groupby(level=1).sum().\n",
      "  lambda_event = (lambda_vec[\"+\"] - self.ratio * lambda_vec[\"-\"]).sum(level=_EVENT) / \\\n",
      "/Library/Frameworks/Python.framework/Versions/3.10/lib/python3.10/site-packages/fairlearn/reductions/_moments/utility_parity.py:251: FutureWarning: Using the level keyword in DataFrame and Series aggregations is deprecated and will be removed in a future version. Use groupby instead. df.sum(level=1) should use df.groupby(level=1).sum().\n",
      "  lambda_event = (lambda_vec[\"+\"] - self.ratio * lambda_vec[\"-\"]).sum(level=_EVENT) / \\\n",
      "/Library/Frameworks/Python.framework/Versions/3.10/lib/python3.10/site-packages/fairlearn/reductions/_moments/utility_parity.py:251: FutureWarning: Using the level keyword in DataFrame and Series aggregations is deprecated and will be removed in a future version. Use groupby instead. df.sum(level=1) should use df.groupby(level=1).sum().\n",
      "  lambda_event = (lambda_vec[\"+\"] - self.ratio * lambda_vec[\"-\"]).sum(level=_EVENT) / \\\n",
      "/Library/Frameworks/Python.framework/Versions/3.10/lib/python3.10/site-packages/fairlearn/reductions/_moments/utility_parity.py:251: FutureWarning: Using the level keyword in DataFrame and Series aggregations is deprecated and will be removed in a future version. Use groupby instead. df.sum(level=1) should use df.groupby(level=1).sum().\n",
      "  lambda_event = (lambda_vec[\"+\"] - self.ratio * lambda_vec[\"-\"]).sum(level=_EVENT) / \\\n",
      "/Library/Frameworks/Python.framework/Versions/3.10/lib/python3.10/site-packages/fairlearn/reductions/_moments/utility_parity.py:251: FutureWarning: Using the level keyword in DataFrame and Series aggregations is deprecated and will be removed in a future version. Use groupby instead. df.sum(level=1) should use df.groupby(level=1).sum().\n",
      "  lambda_event = (lambda_vec[\"+\"] - self.ratio * lambda_vec[\"-\"]).sum(level=_EVENT) / \\\n",
      "/Library/Frameworks/Python.framework/Versions/3.10/lib/python3.10/site-packages/fairlearn/reductions/_moments/utility_parity.py:251: FutureWarning: Using the level keyword in DataFrame and Series aggregations is deprecated and will be removed in a future version. Use groupby instead. df.sum(level=1) should use df.groupby(level=1).sum().\n",
      "  lambda_event = (lambda_vec[\"+\"] - self.ratio * lambda_vec[\"-\"]).sum(level=_EVENT) / \\\n",
      "/Library/Frameworks/Python.framework/Versions/3.10/lib/python3.10/site-packages/fairlearn/reductions/_moments/utility_parity.py:251: FutureWarning: Using the level keyword in DataFrame and Series aggregations is deprecated and will be removed in a future version. Use groupby instead. df.sum(level=1) should use df.groupby(level=1).sum().\n",
      "  lambda_event = (lambda_vec[\"+\"] - self.ratio * lambda_vec[\"-\"]).sum(level=_EVENT) / \\\n",
      "/Library/Frameworks/Python.framework/Versions/3.10/lib/python3.10/site-packages/fairlearn/reductions/_moments/utility_parity.py:251: FutureWarning: Using the level keyword in DataFrame and Series aggregations is deprecated and will be removed in a future version. Use groupby instead. df.sum(level=1) should use df.groupby(level=1).sum().\n",
      "  lambda_event = (lambda_vec[\"+\"] - self.ratio * lambda_vec[\"-\"]).sum(level=_EVENT) / \\\n",
      "/Library/Frameworks/Python.framework/Versions/3.10/lib/python3.10/site-packages/fairlearn/reductions/_moments/utility_parity.py:251: FutureWarning: Using the level keyword in DataFrame and Series aggregations is deprecated and will be removed in a future version. Use groupby instead. df.sum(level=1) should use df.groupby(level=1).sum().\n",
      "  lambda_event = (lambda_vec[\"+\"] - self.ratio * lambda_vec[\"-\"]).sum(level=_EVENT) / \\\n",
      "/Library/Frameworks/Python.framework/Versions/3.10/lib/python3.10/site-packages/fairlearn/reductions/_moments/utility_parity.py:251: FutureWarning: Using the level keyword in DataFrame and Series aggregations is deprecated and will be removed in a future version. Use groupby instead. df.sum(level=1) should use df.groupby(level=1).sum().\n",
      "  lambda_event = (lambda_vec[\"+\"] - self.ratio * lambda_vec[\"-\"]).sum(level=_EVENT) / \\\n",
      "/Library/Frameworks/Python.framework/Versions/3.10/lib/python3.10/site-packages/fairlearn/reductions/_moments/utility_parity.py:251: FutureWarning: Using the level keyword in DataFrame and Series aggregations is deprecated and will be removed in a future version. Use groupby instead. df.sum(level=1) should use df.groupby(level=1).sum().\n",
      "  lambda_event = (lambda_vec[\"+\"] - self.ratio * lambda_vec[\"-\"]).sum(level=_EVENT) / \\\n",
      "/Library/Frameworks/Python.framework/Versions/3.10/lib/python3.10/site-packages/fairlearn/reductions/_moments/utility_parity.py:251: FutureWarning: Using the level keyword in DataFrame and Series aggregations is deprecated and will be removed in a future version. Use groupby instead. df.sum(level=1) should use df.groupby(level=1).sum().\n",
      "  lambda_event = (lambda_vec[\"+\"] - self.ratio * lambda_vec[\"-\"]).sum(level=_EVENT) / \\\n",
      "/Library/Frameworks/Python.framework/Versions/3.10/lib/python3.10/site-packages/fairlearn/reductions/_moments/utility_parity.py:251: FutureWarning: Using the level keyword in DataFrame and Series aggregations is deprecated and will be removed in a future version. Use groupby instead. df.sum(level=1) should use df.groupby(level=1).sum().\n",
      "  lambda_event = (lambda_vec[\"+\"] - self.ratio * lambda_vec[\"-\"]).sum(level=_EVENT) / \\\n",
      "/Library/Frameworks/Python.framework/Versions/3.10/lib/python3.10/site-packages/fairlearn/reductions/_moments/utility_parity.py:251: FutureWarning: Using the level keyword in DataFrame and Series aggregations is deprecated and will be removed in a future version. Use groupby instead. df.sum(level=1) should use df.groupby(level=1).sum().\n",
      "  lambda_event = (lambda_vec[\"+\"] - self.ratio * lambda_vec[\"-\"]).sum(level=_EVENT) / \\\n",
      "/Library/Frameworks/Python.framework/Versions/3.10/lib/python3.10/site-packages/fairlearn/reductions/_moments/utility_parity.py:251: FutureWarning: Using the level keyword in DataFrame and Series aggregations is deprecated and will be removed in a future version. Use groupby instead. df.sum(level=1) should use df.groupby(level=1).sum().\n",
      "  lambda_event = (lambda_vec[\"+\"] - self.ratio * lambda_vec[\"-\"]).sum(level=_EVENT) / \\\n",
      "/Library/Frameworks/Python.framework/Versions/3.10/lib/python3.10/site-packages/fairlearn/reductions/_moments/utility_parity.py:251: FutureWarning: Using the level keyword in DataFrame and Series aggregations is deprecated and will be removed in a future version. Use groupby instead. df.sum(level=1) should use df.groupby(level=1).sum().\n",
      "  lambda_event = (lambda_vec[\"+\"] - self.ratio * lambda_vec[\"-\"]).sum(level=_EVENT) / \\\n",
      "/Library/Frameworks/Python.framework/Versions/3.10/lib/python3.10/site-packages/fairlearn/reductions/_moments/utility_parity.py:251: FutureWarning: Using the level keyword in DataFrame and Series aggregations is deprecated and will be removed in a future version. Use groupby instead. df.sum(level=1) should use df.groupby(level=1).sum().\n",
      "  lambda_event = (lambda_vec[\"+\"] - self.ratio * lambda_vec[\"-\"]).sum(level=_EVENT) / \\\n",
      "/Library/Frameworks/Python.framework/Versions/3.10/lib/python3.10/site-packages/fairlearn/reductions/_moments/utility_parity.py:251: FutureWarning: Using the level keyword in DataFrame and Series aggregations is deprecated and will be removed in a future version. Use groupby instead. df.sum(level=1) should use df.groupby(level=1).sum().\n",
      "  lambda_event = (lambda_vec[\"+\"] - self.ratio * lambda_vec[\"-\"]).sum(level=_EVENT) / \\\n"
     ]
    },
    {
     "data": {
      "text/plain": [
       "ExponentiatedGradient(constraints=<fairlearn.reductions._moments.utility_parity.DemographicParity object at 0x1396fef80>,\n",
       "                      estimator=LogisticRegression(max_iter=500),\n",
       "                      nu=0.001146474746552933)"
      ]
     },
     "execution_count": 28,
     "metadata": {},
     "output_type": "execute_result"
    }
   ],
   "source": [
    "constraint = DemographicParity()\n",
    "classifier = LogisticRegression(max_iter=500)\n",
    "mitigator = ExponentiatedGradient(classifier, constraint)\n",
    "mitigator.fit(np.array(train_X), train_y, sensitive_features=train_data['Demographic'])"
   ]
  },
  {
   "cell_type": "markdown",
   "metadata": {},
   "source": [
    "### Prediction"
   ]
  },
  {
   "cell_type": "markdown",
   "metadata": {},
   "source": [
    "#### 1. Overall"
   ]
  },
  {
   "cell_type": "code",
   "execution_count": 29,
   "metadata": {},
   "outputs": [
    {
     "name": "stdout",
     "output_type": "stream",
     "text": [
      "              precision    recall  f1-score   support\n",
      "\n",
      "           0       0.69      0.68      0.69      2000\n",
      "           1       0.69      0.69      0.69      2000\n",
      "\n",
      "    accuracy                           0.69      4000\n",
      "   macro avg       0.69      0.69      0.69      4000\n",
      "weighted avg       0.69      0.69      0.69      4000\n",
      "\n",
      "[[1369  631]\n",
      " [ 623 1377]]\n"
     ]
    }
   ],
   "source": [
    "overall_labels_predict = mitigator.predict(dev_X)\n",
    "overall_confusion = confusion_matrix(dev_y, overall_labels_predict)\n",
    "print(classification_report(dev_y, overall_labels_predict))\n",
    "print(overall_confusion)"
   ]
  },
  {
   "cell_type": "markdown",
   "metadata": {},
   "source": [
    "#### 2. AAE"
   ]
  },
  {
   "cell_type": "code",
   "execution_count": 30,
   "metadata": {},
   "outputs": [
    {
     "name": "stdout",
     "output_type": "stream",
     "text": [
      "              precision    recall  f1-score   support\n",
      "\n",
      "           0       0.65      0.64      0.64      1000\n",
      "           1       0.64      0.66      0.65      1000\n",
      "\n",
      "    accuracy                           0.65      2000\n",
      "   macro avg       0.65      0.65      0.65      2000\n",
      "weighted avg       0.65      0.65      0.65      2000\n",
      "\n",
      "[[638 362]\n",
      " [343 657]]\n"
     ]
    }
   ],
   "source": [
    "AAE_labels_predict = mitigator.predict(AAE_dev_X)\n",
    "AAE_confusion = confusion_matrix(AAE_dev_y, AAE_labels_predict)\n",
    "print(classification_report(AAE_dev_y, AAE_labels_predict))\n",
    "print(AAE_confusion)"
   ]
  },
  {
   "cell_type": "markdown",
   "metadata": {},
   "source": [
    "#### 3. SAE"
   ]
  },
  {
   "cell_type": "code",
   "execution_count": 31,
   "metadata": {},
   "outputs": [
    {
     "name": "stdout",
     "output_type": "stream",
     "text": [
      "              precision    recall  f1-score   support\n",
      "\n",
      "           0       0.73      0.74      0.74      1000\n",
      "           1       0.74      0.72      0.73      1000\n",
      "\n",
      "    accuracy                           0.73      2000\n",
      "   macro avg       0.73      0.73      0.73      2000\n",
      "weighted avg       0.73      0.73      0.73      2000\n",
      "\n",
      "[[741 259]\n",
      " [275 725]]\n"
     ]
    }
   ],
   "source": [
    "SAE_labels_predict = mitigator.predict(SAE_dev_X)\n",
    "SAE_confusion = confusion_matrix(SAE_dev_y, SAE_labels_predict)\n",
    "print(classification_report(SAE_dev_y, SAE_labels_predict))\n",
    "print(SAE_confusion)"
   ]
  },
  {
   "cell_type": "markdown",
   "metadata": {},
   "source": [
    "### Bias Evaluation"
   ]
  },
  {
   "cell_type": "markdown",
   "metadata": {},
   "source": [
    "#### 1. Accuracy + Demographic count"
   ]
  },
  {
   "cell_type": "code",
   "execution_count": 32,
   "metadata": {},
   "outputs": [
    {
     "name": "stdout",
     "output_type": "stream",
     "text": [
      "accuracy    0.6865\n",
      "count         4000\n",
      "dtype: object\n",
      "            accuracy count\n",
      "Demographic               \n",
      "AAE           0.6405  2000\n",
      "SAE           0.7325  2000\n"
     ]
    }
   ],
   "source": [
    "multi_metrics = {'accuracy': accuracy_score, 'count': count}\n",
    "am = MetricFrame(metrics=multi_metrics, y_true=dev_y, y_pred=overall_labels_predict, sensitive_features=dev_data['Demographic'])\n",
    "print(am.overall)\n",
    "print(am.by_group)"
   ]
  },
  {
   "cell_type": "markdown",
   "metadata": {},
   "source": [
    "#### 2. Selection rate + Demographic parity difference"
   ]
  },
  {
   "cell_type": "code",
   "execution_count": 33,
   "metadata": {},
   "outputs": [
    {
     "name": "stdout",
     "output_type": "stream",
     "text": [
      "0.502\n",
      "Demographic\n",
      "AAE    0.5115\n",
      "SAE    0.4925\n",
      "Name: selection_rate, dtype: object\n",
      "\n",
      "Difference between selection rate\n",
      "Demographic parity difference: 0.019\n"
     ]
    }
   ],
   "source": [
    "sm = MetricFrame(metrics=selection_rate, y_true=dev_y, y_pred=overall_labels_predict, sensitive_features=dev_data['Demographic'])\n",
    "print(sm.overall)\n",
    "print(sm.by_group)\n",
    "\n",
    "group_metrics = demographic_parity_difference(y_true=dev_y, y_pred=overall_labels_predict, sensitive_features=dev_data['Demographic'])\n",
    "print(\"\\nDifference between selection rate\")\n",
    "print(\"Demographic parity difference: {}\".format(round(group_metrics, 3)))"
   ]
  },
  {
   "cell_type": "markdown",
   "metadata": {},
   "source": [
    "#### 3. Error Rate Equality Difference"
   ]
  },
  {
   "cell_type": "code",
   "execution_count": 34,
   "metadata": {},
   "outputs": [
    {
     "name": "stdout",
     "output_type": "stream",
     "text": [
      "Sum of FPR difference: 0.103\n",
      "Sum of FNR difference: 0.068\n",
      "Sum of Error Rate Equality Difference: 0.171\n"
     ]
    },
    {
     "data": {
      "text/plain": [
       "0.17099999999999999"
      ]
     },
     "execution_count": 34,
     "metadata": {},
     "output_type": "execute_result"
    }
   ],
   "source": [
    "matrix_lst = [AAE_confusion, SAE_confusion]\n",
    "ERED.cal_sum_ered(overall_confusion, matrix_lst)"
   ]
  }
 ],
 "metadata": {
  "interpreter": {
   "hash": "aee8b7b246df8f9039afb4144a1f6fd8d2ca17a180786b69acc140d282b71a49"
  },
  "kernelspec": {
   "display_name": "Python 3.10.2 64-bit",
   "language": "python",
   "name": "python3"
  },
  "language_info": {
   "codemirror_mode": {
    "name": "ipython",
    "version": 3
   },
   "file_extension": ".py",
   "mimetype": "text/x-python",
   "name": "python",
   "nbconvert_exporter": "python",
   "pygments_lexer": "ipython3",
   "version": "3.10.2"
  },
  "orig_nbformat": 4
 },
 "nbformat": 4,
 "nbformat_minor": 2
}
