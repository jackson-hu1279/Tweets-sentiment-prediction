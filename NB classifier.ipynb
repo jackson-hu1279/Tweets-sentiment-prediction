{
 "cells": [
  {
   "cell_type": "code",
   "execution_count": 1,
   "metadata": {},
   "outputs": [],
   "source": [
    "import pandas as pd\n",
    "from sklearn.naive_bayes import GaussianNB\n",
    "from sklearn.metrics import confusion_matrix, classification_report"
   ]
  },
  {
   "cell_type": "markdown",
   "metadata": {},
   "source": [
    "## 1. TFIDF"
   ]
  },
  {
   "cell_type": "code",
   "execution_count": 2,
   "metadata": {},
   "outputs": [],
   "source": [
    "train_data = pd.read_pickle(open(\"tfidf/train_tfidf.pkl\", \"rb\"))\n",
    "train_X = list(train_data['TFIDF'])\n",
    "train_y = train_data['Sentiment']\n",
    "dev_data = pd.read_pickle(open(\"tfidf/dev_tfidf.pkl\", \"rb\"))\n",
    "dev_X = list(dev_data['TFIDF'])\n",
    "dev_y = dev_data['Sentiment']"
   ]
  },
  {
   "cell_type": "markdown",
   "metadata": {},
   "source": [
    "### AAE"
   ]
  },
  {
   "cell_type": "code",
   "execution_count": 3,
   "metadata": {},
   "outputs": [],
   "source": [
    "AAE_train_data = train_data[train_data['Demographic'] == 'AAE']\n",
    "AAE_train_X = list(AAE_train_data['TFIDF'])\n",
    "AAE_train_y = AAE_train_data['Sentiment']"
   ]
  },
  {
   "cell_type": "code",
   "execution_count": 4,
   "metadata": {},
   "outputs": [],
   "source": [
    "AAE_dev_data = dev_data[dev_data['Demographic'] == 'AAE']\n",
    "AAE_dev_X = list(AAE_dev_data['TFIDF'])\n",
    "AAE_dev_y = AAE_dev_data['Sentiment']"
   ]
  },
  {
   "cell_type": "code",
   "execution_count": 5,
   "metadata": {},
   "outputs": [
    {
     "name": "stdout",
     "output_type": "stream",
     "text": [
      "              precision    recall  f1-score   support\n",
      "\n",
      "    negative       0.67      0.45      0.54      1000\n",
      "    positive       0.59      0.77      0.67      1000\n",
      "\n",
      "    accuracy                           0.61      2000\n",
      "   macro avg       0.63      0.61      0.60      2000\n",
      "weighted avg       0.63      0.61      0.60      2000\n",
      "\n",
      "[[454 546]\n",
      " [227 773]]\n"
     ]
    }
   ],
   "source": [
    "nb = GaussianNB()\n",
    "nb.fit(AAE_train_X, AAE_train_y)\n",
    "labels_predict = nb.predict(AAE_dev_X)\n",
    "print(classification_report(AAE_dev_y, labels_predict))\n",
    "print(confusion_matrix(AAE_dev_y, labels_predict))"
   ]
  },
  {
   "cell_type": "markdown",
   "metadata": {},
   "source": [
    "### SAE"
   ]
  },
  {
   "cell_type": "code",
   "execution_count": 6,
   "metadata": {},
   "outputs": [],
   "source": [
    "SAE_train_data = train_data[train_data['Demographic'] == 'SAE']\n",
    "SAE_train_X = list(SAE_train_data['TFIDF'])\n",
    "SAE_train_y = SAE_train_data['Sentiment']"
   ]
  },
  {
   "cell_type": "code",
   "execution_count": 7,
   "metadata": {},
   "outputs": [],
   "source": [
    "SAE_dev_data = dev_data[dev_data['Demographic'] == 'SAE']\n",
    "SAE_dev_X = list(SAE_dev_data['TFIDF'])\n",
    "SAE_dev_y = SAE_dev_data['Sentiment']"
   ]
  },
  {
   "cell_type": "code",
   "execution_count": 8,
   "metadata": {},
   "outputs": [
    {
     "name": "stdout",
     "output_type": "stream",
     "text": [
      "              precision    recall  f1-score   support\n",
      "\n",
      "    negative       0.61      0.78      0.68      1000\n",
      "    positive       0.69      0.51      0.59      1000\n",
      "\n",
      "    accuracy                           0.64      2000\n",
      "   macro avg       0.65      0.64      0.63      2000\n",
      "weighted avg       0.65      0.64      0.63      2000\n",
      "\n",
      "[[777 223]\n",
      " [494 506]]\n"
     ]
    }
   ],
   "source": [
    "nb = GaussianNB()\n",
    "nb.fit(SAE_train_X, SAE_train_y)\n",
    "labels_predict = nb.predict(SAE_dev_X)\n",
    "print(classification_report(SAE_dev_y, labels_predict))\n",
    "print(confusion_matrix(SAE_dev_y, labels_predict))"
   ]
  },
  {
   "cell_type": "markdown",
   "metadata": {},
   "source": [
    "## 2. Embedding"
   ]
  },
  {
   "cell_type": "code",
   "execution_count": 9,
   "metadata": {},
   "outputs": [],
   "source": [
    "train_data = pd.read_pickle(open(\"sentence-transformers/train_emb.pkl\", \"rb\"))\n",
    "train_X = list(train_data['TFIDF'])\n",
    "train_y = train_data['Sentiment']\n",
    "dev_data = pd.read_pickle(open(\"sentence-transformers/dev_emb.pkl\", \"rb\"))\n",
    "dev_X = list(dev_data['TFIDF'])\n",
    "dev_y = dev_data['Sentiment']"
   ]
  },
  {
   "cell_type": "markdown",
   "metadata": {},
   "source": [
    "### AAE"
   ]
  },
  {
   "cell_type": "code",
   "execution_count": 10,
   "metadata": {},
   "outputs": [],
   "source": [
    "AAE_train_data = train_data[train_data['Demographic'] == 'AAE']\n",
    "AAE_train_X = list(AAE_train_data['TFIDF'])\n",
    "AAE_train_y = AAE_train_data['Sentiment']"
   ]
  },
  {
   "cell_type": "code",
   "execution_count": 11,
   "metadata": {},
   "outputs": [],
   "source": [
    "AAE_dev_data = dev_data[dev_data['Demographic'] == 'AAE']\n",
    "AAE_dev_X = list(AAE_dev_data['TFIDF'])\n",
    "AAE_dev_y = AAE_dev_data['Sentiment']"
   ]
  },
  {
   "cell_type": "code",
   "execution_count": 12,
   "metadata": {},
   "outputs": [
    {
     "name": "stdout",
     "output_type": "stream",
     "text": [
      "              precision    recall  f1-score   support\n",
      "\n",
      "    negative       0.57      0.67      0.62      1000\n",
      "    positive       0.60      0.50      0.54      1000\n",
      "\n",
      "    accuracy                           0.58      2000\n",
      "   macro avg       0.59      0.58      0.58      2000\n",
      "weighted avg       0.59      0.58      0.58      2000\n",
      "\n",
      "[[668 332]\n",
      " [502 498]]\n"
     ]
    }
   ],
   "source": [
    "nb = GaussianNB()\n",
    "nb.fit(AAE_train_X, AAE_train_y)\n",
    "labels_predict = nb.predict(AAE_dev_X)\n",
    "print(classification_report(AAE_dev_y, labels_predict))\n",
    "print(confusion_matrix(AAE_dev_y, labels_predict))"
   ]
  },
  {
   "cell_type": "markdown",
   "metadata": {},
   "source": [
    "### SAE"
   ]
  },
  {
   "cell_type": "code",
   "execution_count": 13,
   "metadata": {},
   "outputs": [],
   "source": [
    "\n",
    "SAE_train_data = train_data[train_data['Demographic'] == 'SAE']\n",
    "SAE_train_X = list(SAE_train_data['TFIDF'])\n",
    "SAE_train_y = SAE_train_data['Sentiment']"
   ]
  },
  {
   "cell_type": "code",
   "execution_count": 14,
   "metadata": {},
   "outputs": [],
   "source": [
    "SAE_dev_data = dev_data[dev_data['Demographic'] == 'SAE']\n",
    "SAE_dev_X = list(SAE_dev_data['TFIDF'])\n",
    "SAE_dev_y = SAE_dev_data['Sentiment']"
   ]
  },
  {
   "cell_type": "code",
   "execution_count": 15,
   "metadata": {},
   "outputs": [
    {
     "name": "stdout",
     "output_type": "stream",
     "text": [
      "              precision    recall  f1-score   support\n",
      "\n",
      "    negative       0.64      0.76      0.70      1000\n",
      "    positive       0.70      0.58      0.64      1000\n",
      "\n",
      "    accuracy                           0.67      2000\n",
      "   macro avg       0.67      0.67      0.67      2000\n",
      "weighted avg       0.67      0.67      0.67      2000\n",
      "\n",
      "[[757 243]\n",
      " [421 579]]\n"
     ]
    }
   ],
   "source": [
    "nb = GaussianNB()\n",
    "nb.fit(SAE_train_X, SAE_train_y)\n",
    "labels_predict = nb.predict(SAE_dev_X)\n",
    "print(classification_report(SAE_dev_y, labels_predict))\n",
    "print(confusion_matrix(SAE_dev_y, labels_predict))"
   ]
  }
 ],
 "metadata": {
  "interpreter": {
   "hash": "aee8b7b246df8f9039afb4144a1f6fd8d2ca17a180786b69acc140d282b71a49"
  },
  "kernelspec": {
   "display_name": "Python 3 (ipykernel)",
   "language": "python",
   "name": "python3"
  },
  "language_info": {
   "codemirror_mode": {
    "name": "ipython",
    "version": 3
   },
   "file_extension": ".py",
   "mimetype": "text/x-python",
   "name": "python",
   "nbconvert_exporter": "python",
   "pygments_lexer": "ipython3",
   "version": "3.10.2"
  }
 },
 "nbformat": 4,
 "nbformat_minor": 2
}
